{
 "cells": [
  {
   "cell_type": "code",
   "execution_count": 1,
   "metadata": {},
   "outputs": [
    {
     "name": "stderr",
     "output_type": "stream",
     "text": [
      "C:\\Users\\huyen\\AppData\\Local\\Packages\\PythonSoftwareFoundation.Python.3.10_qbz5n2kfra8p0\\LocalCache\\local-packages\\Python310\\site-packages\\tqdm\\auto.py:22: TqdmWarning: IProgress not found. Please update jupyter and ipywidgets. See https://ipywidgets.readthedocs.io/en/stable/user_install.html\n",
      "  from .autonotebook import tqdm as notebook_tqdm\n"
     ]
    }
   ],
   "source": [
    "import torch\n",
    "import torchvision\n",
    "import torchvision.transforms as transforms\n",
    "import torch.nn as nn\n",
    "import torch.nn.functional as F\n",
    "import torch.optim as optim\n",
    "from torch.utils.data import DataLoader\n",
    "import torch.utils.data as data_utils\n",
    "\n",
    "\n",
    "import matplotlib.pyplot as plt\n",
    "from tqdm import tqdm\n",
    "import copy\n",
    "\n",
    "import numpy as np\n",
    "import random\n",
    "import pandas as pd\n",
    "import sklearn\n",
    "from sklearn.model_selection import train_test_split"
   ]
  },
  {
   "cell_type": "markdown",
   "metadata": {},
   "source": [
    "## Hyperparameters"
   ]
  },
  {
   "cell_type": "code",
   "execution_count": 2,
   "metadata": {},
   "outputs": [],
   "source": [
    "epochs = 20\n",
    "batch_size = 4"
   ]
  },
  {
   "cell_type": "markdown",
   "metadata": {},
   "source": [
    "## Loading data"
   ]
  },
  {
   "cell_type": "code",
   "execution_count": 3,
   "metadata": {},
   "outputs": [
    {
     "name": "stdout",
     "output_type": "stream",
     "text": [
      "Train set shape: (27455, 785). Test set shape: (7172, 785)\n"
     ]
    }
   ],
   "source": [
    "\n",
    "train_p = r'C:\\Users\\huyen\\OneDrive - UNT System\\A_PhD_PATH\\COURSES\\CSCE 5218\\Project\\Computer-Vision-Project\\Computer-Vision-Project\\data\\asl_data\\sign_mnist_train.csv'\n",
    "test_p = r'C:\\Users\\huyen\\OneDrive - UNT System\\A_PhD_PATH\\COURSES\\CSCE 5218\\Project\\Computer-Vision-Project\\Computer-Vision-Project\\data\\asl_data\\sign_mnist_valid.csv'\n",
    "train_data = pd.read_csv(train_p,  sep=',')\n",
    "test_data = pd.read_csv(test_p,  sep=',')\n",
    "print(f'Train set shape: {train_data.shape}. Test set shape: {test_data.shape}')"
   ]
  },
  {
   "cell_type": "code",
   "execution_count": 4,
   "metadata": {},
   "outputs": [
    {
     "data": {
      "text/html": [
       "<div>\n",
       "<style scoped>\n",
       "    .dataframe tbody tr th:only-of-type {\n",
       "        vertical-align: middle;\n",
       "    }\n",
       "\n",
       "    .dataframe tbody tr th {\n",
       "        vertical-align: top;\n",
       "    }\n",
       "\n",
       "    .dataframe thead th {\n",
       "        text-align: right;\n",
       "    }\n",
       "</style>\n",
       "<table border=\"1\" class=\"dataframe\">\n",
       "  <thead>\n",
       "    <tr style=\"text-align: right;\">\n",
       "      <th></th>\n",
       "      <th>label</th>\n",
       "      <th>pixel1</th>\n",
       "      <th>pixel2</th>\n",
       "      <th>pixel3</th>\n",
       "      <th>pixel4</th>\n",
       "      <th>pixel5</th>\n",
       "      <th>pixel6</th>\n",
       "      <th>pixel7</th>\n",
       "      <th>pixel8</th>\n",
       "      <th>pixel9</th>\n",
       "      <th>...</th>\n",
       "      <th>pixel775</th>\n",
       "      <th>pixel776</th>\n",
       "      <th>pixel777</th>\n",
       "      <th>pixel778</th>\n",
       "      <th>pixel779</th>\n",
       "      <th>pixel780</th>\n",
       "      <th>pixel781</th>\n",
       "      <th>pixel782</th>\n",
       "      <th>pixel783</th>\n",
       "      <th>pixel784</th>\n",
       "    </tr>\n",
       "  </thead>\n",
       "  <tbody>\n",
       "    <tr>\n",
       "      <th>0</th>\n",
       "      <td>3</td>\n",
       "      <td>107</td>\n",
       "      <td>118</td>\n",
       "      <td>127</td>\n",
       "      <td>134</td>\n",
       "      <td>139</td>\n",
       "      <td>143</td>\n",
       "      <td>146</td>\n",
       "      <td>150</td>\n",
       "      <td>153</td>\n",
       "      <td>...</td>\n",
       "      <td>207</td>\n",
       "      <td>207</td>\n",
       "      <td>207</td>\n",
       "      <td>207</td>\n",
       "      <td>206</td>\n",
       "      <td>206</td>\n",
       "      <td>206</td>\n",
       "      <td>204</td>\n",
       "      <td>203</td>\n",
       "      <td>202</td>\n",
       "    </tr>\n",
       "    <tr>\n",
       "      <th>1</th>\n",
       "      <td>6</td>\n",
       "      <td>155</td>\n",
       "      <td>157</td>\n",
       "      <td>156</td>\n",
       "      <td>156</td>\n",
       "      <td>156</td>\n",
       "      <td>157</td>\n",
       "      <td>156</td>\n",
       "      <td>158</td>\n",
       "      <td>158</td>\n",
       "      <td>...</td>\n",
       "      <td>69</td>\n",
       "      <td>149</td>\n",
       "      <td>128</td>\n",
       "      <td>87</td>\n",
       "      <td>94</td>\n",
       "      <td>163</td>\n",
       "      <td>175</td>\n",
       "      <td>103</td>\n",
       "      <td>135</td>\n",
       "      <td>149</td>\n",
       "    </tr>\n",
       "    <tr>\n",
       "      <th>2</th>\n",
       "      <td>2</td>\n",
       "      <td>187</td>\n",
       "      <td>188</td>\n",
       "      <td>188</td>\n",
       "      <td>187</td>\n",
       "      <td>187</td>\n",
       "      <td>186</td>\n",
       "      <td>187</td>\n",
       "      <td>188</td>\n",
       "      <td>187</td>\n",
       "      <td>...</td>\n",
       "      <td>202</td>\n",
       "      <td>201</td>\n",
       "      <td>200</td>\n",
       "      <td>199</td>\n",
       "      <td>198</td>\n",
       "      <td>199</td>\n",
       "      <td>198</td>\n",
       "      <td>195</td>\n",
       "      <td>194</td>\n",
       "      <td>195</td>\n",
       "    </tr>\n",
       "    <tr>\n",
       "      <th>3</th>\n",
       "      <td>2</td>\n",
       "      <td>211</td>\n",
       "      <td>211</td>\n",
       "      <td>212</td>\n",
       "      <td>212</td>\n",
       "      <td>211</td>\n",
       "      <td>210</td>\n",
       "      <td>211</td>\n",
       "      <td>210</td>\n",
       "      <td>210</td>\n",
       "      <td>...</td>\n",
       "      <td>235</td>\n",
       "      <td>234</td>\n",
       "      <td>233</td>\n",
       "      <td>231</td>\n",
       "      <td>230</td>\n",
       "      <td>226</td>\n",
       "      <td>225</td>\n",
       "      <td>222</td>\n",
       "      <td>229</td>\n",
       "      <td>163</td>\n",
       "    </tr>\n",
       "    <tr>\n",
       "      <th>4</th>\n",
       "      <td>12</td>\n",
       "      <td>164</td>\n",
       "      <td>167</td>\n",
       "      <td>170</td>\n",
       "      <td>172</td>\n",
       "      <td>176</td>\n",
       "      <td>179</td>\n",
       "      <td>180</td>\n",
       "      <td>184</td>\n",
       "      <td>185</td>\n",
       "      <td>...</td>\n",
       "      <td>92</td>\n",
       "      <td>105</td>\n",
       "      <td>105</td>\n",
       "      <td>108</td>\n",
       "      <td>133</td>\n",
       "      <td>163</td>\n",
       "      <td>157</td>\n",
       "      <td>163</td>\n",
       "      <td>164</td>\n",
       "      <td>179</td>\n",
       "    </tr>\n",
       "  </tbody>\n",
       "</table>\n",
       "<p>5 rows × 785 columns</p>\n",
       "</div>"
      ],
      "text/plain": [
       "   label  pixel1  pixel2  pixel3  pixel4  pixel5  pixel6  pixel7  pixel8  \\\n",
       "0      3     107     118     127     134     139     143     146     150   \n",
       "1      6     155     157     156     156     156     157     156     158   \n",
       "2      2     187     188     188     187     187     186     187     188   \n",
       "3      2     211     211     212     212     211     210     211     210   \n",
       "4     12     164     167     170     172     176     179     180     184   \n",
       "\n",
       "   pixel9  ...  pixel775  pixel776  pixel777  pixel778  pixel779  pixel780  \\\n",
       "0     153  ...       207       207       207       207       206       206   \n",
       "1     158  ...        69       149       128        87        94       163   \n",
       "2     187  ...       202       201       200       199       198       199   \n",
       "3     210  ...       235       234       233       231       230       226   \n",
       "4     185  ...        92       105       105       108       133       163   \n",
       "\n",
       "   pixel781  pixel782  pixel783  pixel784  \n",
       "0       206       204       203       202  \n",
       "1       175       103       135       149  \n",
       "2       198       195       194       195  \n",
       "3       225       222       229       163  \n",
       "4       157       163       164       179  \n",
       "\n",
       "[5 rows x 785 columns]"
      ]
     },
     "execution_count": 4,
     "metadata": {},
     "output_type": "execute_result"
    }
   ],
   "source": [
    "train_data.head()"
   ]
  },
  {
   "cell_type": "code",
   "execution_count": 5,
   "metadata": {},
   "outputs": [
    {
     "name": "stdout",
     "output_type": "stream",
     "text": [
      "number of classes:  24\n"
     ]
    }
   ],
   "source": [
    "n_classes = len(set(list(train_data['label'])+list(test_data['label'])))\n",
    "print('number of classes: ', n_classes)"
   ]
  },
  {
   "cell_type": "markdown",
   "metadata": {},
   "source": [
    "## Preparing data"
   ]
  },
  {
   "cell_type": "markdown",
   "metadata": {},
   "source": [
    "### Spliting data"
   ]
  },
  {
   "cell_type": "code",
   "execution_count": 6,
   "metadata": {},
   "outputs": [],
   "source": [
    "_y_train = train_data['label']\n",
    "y_test = test_data['label']\n",
    "del train_data['label']\n",
    "del test_data['label']\n",
    "\n",
    "_X_train = train_data.values.reshape(-1,1,28,28)\n",
    "X_test = test_data.values.reshape(-1,1,28,28)\n"
   ]
  },
  {
   "cell_type": "code",
   "execution_count": 7,
   "metadata": {},
   "outputs": [
    {
     "name": "stdout",
     "output_type": "stream",
     "text": [
      "X_train shape: (21964, 1, 28, 28). y_train shape: (21964,)\n",
      "X_val shape: (5491, 1, 28, 28). y_val shape: (5491,)\n",
      "X_test shape: (7172, 1, 28, 28). y_test shape: (7172,)\n"
     ]
    }
   ],
   "source": [
    "# Spliting the training data into two sets for training and validation\n",
    "X_train, X_val, y_train, y_val = train_test_split(_X_train, _y_train, test_size=0.2, random_state=42)\n",
    "\n",
    "print(f'X_train shape: {X_train.shape}. y_train shape: {y_train.shape}')\n",
    "print(f'X_val shape: {X_val.shape}. y_val shape: {y_val.shape}')\n",
    "print(f'X_test shape: {X_test.shape}. y_test shape: {y_test.shape}')"
   ]
  },
  {
   "cell_type": "markdown",
   "metadata": {},
   "source": [
    "### Showing some image and label examples"
   ]
  },
  {
   "cell_type": "code",
   "execution_count": 8,
   "metadata": {},
   "outputs": [
    {
     "data": {
      "image/png": "[encoded data removed]",
      "text/plain": [
       "<Figure size 432x288 with 10 Axes>"
      ]
     },
     "metadata": {
      "needs_background": "light"
     },
     "output_type": "display_data"
    }
   ],
   "source": [
    "# Showing image examples\n",
    "def show_imgs(feature_lists, labels):\n",
    "    for i, (features, label) in enumerate(zip (feature_lists, labels)):\n",
    "        image = features.reshape(28, 28)\n",
    "        plt.subplot(1, len(labels), i+1)\n",
    "        plt.title(label, fontdict={'fontsize': 10})\n",
    "        plt.axis('off')\n",
    "        plt.imshow(image, cmap='gray')\n",
    "\n",
    "show_imgs(X_train[15:25], y_train[15:25])"
   ]
  },
  {
   "cell_type": "markdown",
   "metadata": {},
   "source": [
    "### Normalize the data\n"
   ]
  },
  {
   "cell_type": "code",
   "execution_count": 9,
   "metadata": {},
   "outputs": [
    {
     "name": "stdout",
     "output_type": "stream",
     "text": [
      "X_train: min= 0, max=255\n",
      "X_train: min= 0.0, max=1.0\n",
      "X_val: min= 0.0, max=1.0\n",
      "X_test: min= 0.0, max=1.0\n"
     ]
    }
   ],
   "source": [
    "# Exploring min and max values of image pixels\n",
    "print(f'X_train: min= {X_train.min()}, max={X_train.max()}')\n",
    "\n",
    "# Normalize images by dividing pixel values by the max\n",
    "X_train = X_train/255\n",
    "X_val = X_val/255\n",
    "X_test = X_test/255\n",
    "\n",
    "y_train = y_train.values\n",
    "y_val = y_val.values\n",
    "y_test = y_test.values\n",
    "\n",
    "print(f'X_train: min= {X_train.min()}, max={X_train.max()}')\n",
    "print(f'X_val: min= {X_val.min()}, max={X_val.max()}')\n",
    "print(f'X_test: min= {X_test.min()}, max={X_test.max()}')"
   ]
  },
  {
   "cell_type": "code",
   "execution_count": 10,
   "metadata": {},
   "outputs": [
    {
     "data": {
      "text/plain": [
       "24"
      ]
     },
     "execution_count": 10,
     "metadata": {},
     "output_type": "execute_result"
    }
   ],
   "source": [
    "# Exploring the class labels to consider encoding them if neccessary\n",
    "n_classes"
   ]
  },
  {
   "cell_type": "markdown",
   "metadata": {},
   "source": [
    "### Loading data to Dataset and Dataloader object"
   ]
  },
  {
   "cell_type": "code",
   "execution_count": 11,
   "metadata": {},
   "outputs": [],
   "source": [
    "\n",
    "class CustomDataset():\n",
    "    def __init__(self, X, Y) -> None:\n",
    "        super(CustomDataset, self).__init__()\n",
    "        self.X = X\n",
    "        self.Y = Y\n",
    "        # print(type(self.X), type(self.Y))\n",
    "\n",
    "\n",
    "    def __len__(self):\n",
    "        return len(self.Y)\n",
    "\n",
    "    def __getitem__(self, idx):\n",
    "        x = self.X[idx]\n",
    "        y = self.Y[idx]\n",
    "        self.x_tensor = torch.tensor(x, dtype = torch.float) #float32\n",
    "        self.y_tensor = torch.tensor(y, dtype = torch.long)\n",
    "        return self.x_tensor, self.y_tensor\n",
    "\n",
    "# passing data to the customized dataset class we created\n",
    "train_datatensor = CustomDataset(X_train, y_train)\n",
    "val_datatensor = CustomDataset(X_val, y_val)\n",
    "test_datatensor = CustomDataset(X_test, y_test)\n",
    "\n",
    "# loading datasets to pytorch dataloader object\n",
    "train_dataloader = DataLoader(train_datatensor, sampler = torch.utils.data.RandomSampler(train_datatensor), batch_size=batch_size )\n",
    "val_dataloader = DataLoader(val_datatensor, sampler = torch.utils.data.SequentialSampler(val_datatensor), batch_size=batch_size )\n",
    "test_dataloader = DataLoader(test_datatensor, sampler = torch.utils.data.SequentialSampler(test_datatensor), batch_size=batch_size )\n",
    "\n"
   ]
  },
  {
   "cell_type": "code",
   "execution_count": 12,
   "metadata": {},
   "outputs": [
    {
     "data": {
      "text/plain": [
       "'\\nX_train_tensor = torch.from_numpy(X_train).type(torch.FloatTensor)\\ny_train_tensor = torch.from_numpy(y_train).type(torch.LongTensor)\\n\\nX_val_tensor = torch.from_numpy(X_val).type(torch.FloatTensor)\\ny_val_tensor = torch.from_numpy(y_val).type(torch.LongTensor)\\n\\nX_test_tensor = torch.from_numpy(X_test).type(torch.FloatTensor)\\ny_test_tensor = torch.from_numpy(y_test).type(torch.LongTensor)\\n\\n# passing data to the customized dataset class we created\\ntrain_datatensor = torch.utils.data.TensorDataset(X_train_tensor, y_train_tensor)\\nval_datatensor = torch.utils.data.TensorDataset(X_val_tensor, y_val_tensor)\\ntest_datatensor = torch.utils.data.TensorDataset(X_test_tensor, y_test_tensor)\\n\\n# loading datasets to pytorch dataloader object\\ntrain_dataloader = DataLoader(train_datatensor, sampler = torch.utils.data.RandomSampler(train_datatensor), batch_size=batch_size )\\nval_dataloader = DataLoader(val_datatensor, sampler = torch.utils.data.SequentialSampler(val_datatensor), batch_size=batch_size )\\ntest_dataloader = DataLoader(test_datatensor, sampler = torch.utils.data.SequentialSampler(test_datatensor), batch_size=batch_size )\\n'"
      ]
     },
     "execution_count": 12,
     "metadata": {},
     "output_type": "execute_result"
    }
   ],
   "source": [
    "'''\n",
    "X_train_tensor = torch.from_numpy(X_train).type(torch.FloatTensor)\n",
    "y_train_tensor = torch.from_numpy(y_train).type(torch.LongTensor)\n",
    "\n",
    "X_val_tensor = torch.from_numpy(X_val).type(torch.FloatTensor)\n",
    "y_val_tensor = torch.from_numpy(y_val).type(torch.LongTensor)\n",
    "\n",
    "X_test_tensor = torch.from_numpy(X_test).type(torch.FloatTensor)\n",
    "y_test_tensor = torch.from_numpy(y_test).type(torch.LongTensor)\n",
    "\n",
    "# passing data to the customized dataset class we created\n",
    "train_datatensor = torch.utils.data.TensorDataset(X_train_tensor, y_train_tensor)\n",
    "val_datatensor = torch.utils.data.TensorDataset(X_val_tensor, y_val_tensor)\n",
    "test_datatensor = torch.utils.data.TensorDataset(X_test_tensor, y_test_tensor)\n",
    "\n",
    "# loading datasets to pytorch dataloader object\n",
    "train_dataloader = DataLoader(train_datatensor, sampler = torch.utils.data.RandomSampler(train_datatensor), batch_size=batch_size )\n",
    "val_dataloader = DataLoader(val_datatensor, sampler = torch.utils.data.SequentialSampler(val_datatensor), batch_size=batch_size )\n",
    "test_dataloader = DataLoader(test_datatensor, sampler = torch.utils.data.SequentialSampler(test_datatensor), batch_size=batch_size )\n",
    "'''"
   ]
  },
  {
   "cell_type": "code",
   "execution_count": 13,
   "metadata": {},
   "outputs": [
    {
     "name": "stdout",
     "output_type": "stream",
     "text": [
      "Feature batch shape: torch.Size([4, 1, 28, 28])\n",
      "Labels batch shape: torch.Size([4])\n"
     ]
    }
   ],
   "source": [
    "train_features, train_labels = next(iter(train_dataloader))\n",
    "print(f\"Feature batch shape: {train_features.size()}\")\n",
    "print(f\"Labels batch shape: {train_labels.size()}\")"
   ]
  },
  {
   "cell_type": "markdown",
   "metadata": {},
   "source": [
    "## Creating model"
   ]
  },
  {
   "cell_type": "code",
   "execution_count": 14,
   "metadata": {},
   "outputs": [
    {
     "name": "stdout",
     "output_type": "stream",
     "text": [
      "CNNNet(\n",
      "  (conv1): Conv2d(1, 32, kernel_size=(1, 1), stride=(1, 1))\n",
      "  (batchnorm1): BatchNorm2d(32, eps=1e-05, momentum=0.1, affine=True, track_running_stats=True)\n",
      "  (pool1): MaxPool2d(kernel_size=2, stride=2, padding=0, dilation=1, ceil_mode=False)\n",
      "  (conv2): Conv2d(32, 32, kernel_size=(1, 1), stride=(1, 1))\n",
      "  (batchnorm2): BatchNorm2d(32, eps=1e-05, momentum=0.1, affine=True, track_running_stats=True)\n",
      "  (pool2): MaxPool2d(kernel_size=2, stride=2, padding=0, dilation=1, ceil_mode=False)\n",
      "  (conv3): Conv2d(32, 64, kernel_size=(1, 1), stride=(1, 1))\n",
      "  (batchnorm3): BatchNorm2d(64, eps=1e-05, momentum=0.1, affine=True, track_running_stats=True)\n",
      "  (pool3): MaxPool2d(kernel_size=2, stride=2, padding=0, dilation=1, ceil_mode=False)\n",
      "  (dropout1): Dropout2d(p=0.2, inplace=False)\n",
      "  (dropout2): Dropout2d(p=0.3, inplace=False)\n",
      "  (fc1): Linear(in_features=576, out_features=256, bias=True)\n",
      "  (fc2): Linear(in_features=256, out_features=24, bias=True)\n",
      "  (fc3): Softmax(dim=1)\n",
      ")\n"
     ]
    }
   ],
   "source": [
    "class CNNNet(nn.Module):\n",
    "    def __init__(self, n_classes) -> None:\n",
    "        super(CNNNet, self).__init__()\n",
    "        self.n_classes = n_classes\n",
    "        self.conv1 = nn.Conv2d(in_channels=1, out_channels=32, kernel_size=1, stride=1)\n",
    "        self.batchnorm1 = nn.BatchNorm2d(32)\n",
    "        self.pool1 = nn.MaxPool2d(2)\n",
    "\n",
    "        self.conv2 = nn.Conv2d(in_channels=32, out_channels=32, kernel_size=1, stride=1)\n",
    "        self.batchnorm2 = nn.BatchNorm2d(32)\n",
    "        self.pool2 = nn.MaxPool2d(2)\n",
    "\n",
    "        self.conv3 = nn.Conv2d(in_channels=32, out_channels=64, kernel_size=1, stride=1)\n",
    "        self.batchnorm3 = nn.BatchNorm2d(64)\n",
    "        self.pool3 = nn.MaxPool2d(2)\n",
    "\n",
    "        self.dropout1 = nn.Dropout2d(0.2)\n",
    "        self.dropout2 = nn.Dropout2d(0.3)\n",
    "\n",
    "        self.fc1 = nn.Linear(3*3*64, 256)\n",
    "        self.fc2 = nn.Linear(256, self.n_classes)\n",
    "        self.fc3 = nn.Softmax(dim=1)\n",
    "\n",
    "    def forward(self, x):\n",
    "        # print('input x', x.size())\n",
    "        x = F.relu(self.conv1(x))\n",
    "        # x = self.batchnorm1(x)\n",
    "        x = self.pool1(x)\n",
    "        # print('after block 1', x.size())\n",
    "\n",
    "        x = F.relu(self.conv2(x))\n",
    "        x = self.dropout1(x)\n",
    "        # x = self.batchnorm2(x)\n",
    "        x = self.pool2(x)\n",
    "        # print('after block 2', x.size())\n",
    "\n",
    "        x = F.relu(self.conv3(x))\n",
    "        # x = self.batchnorm3(x)\n",
    "        x = self.pool3(x)\n",
    "        # print('after block 3', x.size())\n",
    "\n",
    "\n",
    "        # x = torch.flatten(x, -1)\n",
    "        x = x.view(-1,3*3*64 )\n",
    "        # x = x.view(x.size(0), -1)\n",
    "        # print('after flattening', x.size())\n",
    "        '''\n",
    "        x = F.relu(self.fc1(x))\n",
    "        x = self.dropout2(x)\n",
    "        x = self.fc2(x)\n",
    "        '''\n",
    "        x = self.fc1(x)\n",
    "        x = self.dropout2(x)\n",
    "        x = self.fc2(x)\n",
    "        return self.fc3(x)\n",
    "\n",
    "\n",
    "model= CNNNet(n_classes = n_classes)\n",
    "print(model)"
   ]
  },
  {
   "cell_type": "code",
   "execution_count": 15,
   "metadata": {},
   "outputs": [],
   "source": [
    "# Define loss function and optimizer\n",
    "loss_fn = nn.CrossEntropyLoss()\n",
    "optimizer = optim.SGD(model.parameters(), lr = 0.001, momentum=0.9)"
   ]
  },
  {
   "cell_type": "markdown",
   "metadata": {},
   "source": [
    "## Training model"
   ]
  },
  {
   "cell_type": "code",
   "execution_count": 16,
   "metadata": {},
   "outputs": [
    {
     "name": "stderr",
     "output_type": "stream",
     "text": [
      "  0%|          | 0/5491 [00:00<?, ?it/s]C:\\Users\\huyen\\AppData\\Local\\Packages\\PythonSoftwareFoundation.Python.3.10_qbz5n2kfra8p0\\LocalCache\\local-packages\\Python310\\site-packages\\torch\\nn\\functional.py:1331: UserWarning: dropout2d: Received a 2-D input to dropout2d, which is deprecated and will result in an error in a future release. To retain the behavior and silence this warning, please use dropout instead. Note that dropout2d exists to provide channel-wise dropout on inputs with 2 spatial dimensions, a channel dimension, and an optional batch dimension (i.e. 3D or 4D inputs).\n",
      "  warnings.warn(warn_msg)\n",
      " 19%|█▊        | 1023/5491 [00:07<00:29, 153.13it/s]"
     ]
    },
    {
     "name": "stdout",
     "output_type": "stream",
     "text": [
      "Step [1000/5491]: Loss = 3.175443172454834, Accuracy = 0.25\n"
     ]
    },
    {
     "name": "stderr",
     "output_type": "stream",
     "text": [
      " 37%|███▋      | 2018/5491 [00:15<00:24, 139.46it/s]"
     ]
    },
    {
     "name": "stdout",
     "output_type": "stream",
     "text": [
      "Step [2000/5491]: Loss = 3.1780571937561035, Accuracy = 0.0\n"
     ]
    },
    {
     "name": "stderr",
     "output_type": "stream",
     "text": [
      " 55%|█████▍    | 3008/5491 [00:26<00:38, 64.87it/s] "
     ]
    },
    {
     "name": "stdout",
     "output_type": "stream",
     "text": [
      "Step [3000/5491]: Loss = 3.1747262477874756, Accuracy = 0.0\n"
     ]
    },
    {
     "name": "stderr",
     "output_type": "stream",
     "text": [
      " 73%|███████▎  | 4019/5491 [00:34<00:12, 117.32it/s]"
     ]
    },
    {
     "name": "stdout",
     "output_type": "stream",
     "text": [
      "Step [4000/5491]: Loss = 3.177351951599121, Accuracy = 0.25\n"
     ]
    },
    {
     "name": "stderr",
     "output_type": "stream",
     "text": [
      " 91%|█████████▏| 5016/5491 [00:41<00:03, 136.69it/s]"
     ]
    },
    {
     "name": "stdout",
     "output_type": "stream",
     "text": [
      "Step [5000/5491]: Loss = 3.175959348678589, Accuracy = 0.0\n"
     ]
    },
    {
     "name": "stderr",
     "output_type": "stream",
     "text": [
      "100%|██████████| 5491/5491 [00:44<00:00, 122.10it/s]\n",
      "100%|██████████| 1373/1373 [00:03<00:00, 397.89it/s]\n"
     ]
    },
    {
     "name": "stdout",
     "output_type": "stream",
     "text": [
      "Epoch 1/20: Train loss = 3.17789742191553, Validation loss = 3.1778204421969285, Validation accuracy: 0.0475\n"
     ]
    },
    {
     "name": "stderr",
     "output_type": "stream",
     "text": [
      " 18%|█▊        | 1013/5491 [00:08<00:37, 120.40it/s]"
     ]
    },
    {
     "name": "stdout",
     "output_type": "stream",
     "text": [
      "Step [1000/5491]: Loss = 3.179746627807617, Accuracy = 0.0\n"
     ]
    },
    {
     "name": "stderr",
     "output_type": "stream",
     "text": [
      " 37%|███▋      | 2026/5491 [00:28<00:25, 138.42it/s]"
     ]
    },
    {
     "name": "stdout",
     "output_type": "stream",
     "text": [
      "Step [2000/5491]: Loss = 3.177309513092041, Accuracy = 0.0\n"
     ]
    },
    {
     "name": "stderr",
     "output_type": "stream",
     "text": [
      " 55%|█████▌    | 3029/5491 [00:35<00:14, 165.65it/s]"
     ]
    },
    {
     "name": "stdout",
     "output_type": "stream",
     "text": [
      "Step [3000/5491]: Loss = 3.1794705390930176, Accuracy = 0.0\n"
     ]
    },
    {
     "name": "stderr",
     "output_type": "stream",
     "text": [
      " 73%|███████▎  | 4028/5491 [00:41<00:10, 142.98it/s]"
     ]
    },
    {
     "name": "stdout",
     "output_type": "stream",
     "text": [
      "Step [4000/5491]: Loss = 3.1815950870513916, Accuracy = 0.0\n"
     ]
    },
    {
     "name": "stderr",
     "output_type": "stream",
     "text": [
      " 92%|█████████▏| 5031/5491 [00:50<00:03, 152.52it/s]"
     ]
    },
    {
     "name": "stdout",
     "output_type": "stream",
     "text": [
      "Step [5000/5491]: Loss = 3.1716036796569824, Accuracy = 0.0\n"
     ]
    },
    {
     "name": "stderr",
     "output_type": "stream",
     "text": [
      "100%|██████████| 5491/5491 [00:53<00:00, 102.90it/s]\n",
      "100%|██████████| 1373/1373 [00:03<00:00, 397.49it/s]\n"
     ]
    },
    {
     "name": "stdout",
     "output_type": "stream",
     "text": [
      "Epoch 2/20: Train loss = 3.1776969850964285, Validation loss = 3.177621007052461, Validation accuracy: 0.0475\n"
     ]
    },
    {
     "name": "stderr",
     "output_type": "stream",
     "text": [
      " 19%|█▊        | 1021/5491 [00:08<00:30, 147.23it/s]"
     ]
    },
    {
     "name": "stdout",
     "output_type": "stream",
     "text": [
      "Step [1000/5491]: Loss = 3.1829466819763184, Accuracy = 0.0\n"
     ]
    },
    {
     "name": "stderr",
     "output_type": "stream",
     "text": [
      " 37%|███▋      | 2021/5491 [00:15<00:22, 154.42it/s]"
     ]
    },
    {
     "name": "stdout",
     "output_type": "stream",
     "text": [
      "Step [2000/5491]: Loss = 3.175215721130371, Accuracy = 0.0\n"
     ]
    },
    {
     "name": "stderr",
     "output_type": "stream",
     "text": [
      " 55%|█████▌    | 3021/5491 [00:23<00:18, 134.99it/s]"
     ]
    },
    {
     "name": "stdout",
     "output_type": "stream",
     "text": [
      "Step [3000/5491]: Loss = 3.1745901107788086, Accuracy = 0.25\n"
     ]
    },
    {
     "name": "stderr",
     "output_type": "stream",
     "text": [
      " 73%|███████▎  | 4013/5491 [00:30<00:12, 119.64it/s]"
     ]
    },
    {
     "name": "stdout",
     "output_type": "stream",
     "text": [
      "Step [4000/5491]: Loss = 3.1757233142852783, Accuracy = 0.0\n"
     ]
    },
    {
     "name": "stderr",
     "output_type": "stream",
     "text": [
      " 92%|█████████▏| 5025/5491 [00:37<00:02, 160.45it/s]"
     ]
    },
    {
     "name": "stdout",
     "output_type": "stream",
     "text": [
      "Step [5000/5491]: Loss = 3.1759817600250244, Accuracy = 0.0\n"
     ]
    },
    {
     "name": "stderr",
     "output_type": "stream",
     "text": [
      "100%|██████████| 5491/5491 [00:40<00:00, 134.72it/s]\n",
      "100%|██████████| 1373/1373 [00:04<00:00, 311.08it/s]\n"
     ]
    },
    {
     "name": "stdout",
     "output_type": "stream",
     "text": [
      "Epoch 3/20: Train loss = 3.1775272928980223, Validation loss = 3.177379514384426, Validation accuracy: 0.0475\n"
     ]
    },
    {
     "name": "stderr",
     "output_type": "stream",
     "text": [
      " 19%|█▊        | 1025/5491 [00:08<00:30, 146.24it/s]"
     ]
    },
    {
     "name": "stdout",
     "output_type": "stream",
     "text": [
      "Step [1000/5491]: Loss = 3.1668219566345215, Accuracy = 0.25\n"
     ]
    },
    {
     "name": "stderr",
     "output_type": "stream",
     "text": [
      " 37%|███▋      | 2017/5491 [00:15<00:27, 124.10it/s]"
     ]
    },
    {
     "name": "stdout",
     "output_type": "stream",
     "text": [
      "Step [2000/5491]: Loss = 3.174553871154785, Accuracy = 0.0\n"
     ]
    },
    {
     "name": "stderr",
     "output_type": "stream",
     "text": [
      " 55%|█████▍    | 3020/5491 [00:23<00:18, 135.79it/s]"
     ]
    },
    {
     "name": "stdout",
     "output_type": "stream",
     "text": [
      "Step [3000/5491]: Loss = 3.1800575256347656, Accuracy = 0.0\n"
     ]
    },
    {
     "name": "stderr",
     "output_type": "stream",
     "text": [
      " 73%|███████▎  | 4032/5491 [00:31<00:09, 161.90it/s]"
     ]
    },
    {
     "name": "stdout",
     "output_type": "stream",
     "text": [
      "Step [4000/5491]: Loss = 3.180788993835449, Accuracy = 0.0\n"
     ]
    },
    {
     "name": "stderr",
     "output_type": "stream",
     "text": [
      " 91%|█████████▏| 5014/5491 [00:37<00:03, 154.29it/s]"
     ]
    },
    {
     "name": "stdout",
     "output_type": "stream",
     "text": [
      "Step [5000/5491]: Loss = 3.1738338470458984, Accuracy = 0.0\n"
     ]
    },
    {
     "name": "stderr",
     "output_type": "stream",
     "text": [
      "100%|██████████| 5491/5491 [00:41<00:00, 133.61it/s]\n",
      "100%|██████████| 1373/1373 [00:04<00:00, 341.81it/s]\n"
     ]
    },
    {
     "name": "stdout",
     "output_type": "stream",
     "text": [
      "Epoch 4/20: Train loss = 3.1773288397162887, Validation loss = 3.1770667368186625, Validation accuracy: 0.0475\n"
     ]
    },
    {
     "name": "stderr",
     "output_type": "stream",
     "text": [
      " 19%|█▊        | 1027/5491 [00:07<00:28, 159.41it/s]"
     ]
    },
    {
     "name": "stdout",
     "output_type": "stream",
     "text": [
      "Step [1000/5491]: Loss = 3.1802468299865723, Accuracy = 0.0\n"
     ]
    },
    {
     "name": "stderr",
     "output_type": "stream",
     "text": [
      " 37%|███▋      | 2017/5491 [00:14<00:33, 103.88it/s]"
     ]
    },
    {
     "name": "stdout",
     "output_type": "stream",
     "text": [
      "Step [2000/5491]: Loss = 3.175713062286377, Accuracy = 0.0\n"
     ]
    },
    {
     "name": "stderr",
     "output_type": "stream",
     "text": [
      " 55%|█████▍    | 3018/5491 [00:23<00:18, 131.47it/s]"
     ]
    },
    {
     "name": "stdout",
     "output_type": "stream",
     "text": [
      "Step [3000/5491]: Loss = 3.171767234802246, Accuracy = 0.0\n"
     ]
    },
    {
     "name": "stderr",
     "output_type": "stream",
     "text": [
      " 73%|███████▎  | 4013/5491 [00:30<00:10, 138.85it/s]"
     ]
    },
    {
     "name": "stdout",
     "output_type": "stream",
     "text": [
      "Step [4000/5491]: Loss = 3.17744517326355, Accuracy = 0.0\n"
     ]
    },
    {
     "name": "stderr",
     "output_type": "stream",
     "text": [
      " 91%|█████████▏| 5020/5491 [00:42<00:03, 135.48it/s]"
     ]
    },
    {
     "name": "stdout",
     "output_type": "stream",
     "text": [
      "Step [5000/5491]: Loss = 3.1815195083618164, Accuracy = 0.0\n"
     ]
    },
    {
     "name": "stderr",
     "output_type": "stream",
     "text": [
      "100%|██████████| 5491/5491 [00:45<00:00, 120.62it/s]\n",
      "100%|██████████| 1373/1373 [00:05<00:00, 252.34it/s]\n"
     ]
    },
    {
     "name": "stdout",
     "output_type": "stream",
     "text": [
      "Epoch 5/20: Train loss = 3.1769739214220327, Validation loss = 3.176624188176577, Validation accuracy: 0.0475\n"
     ]
    },
    {
     "name": "stderr",
     "output_type": "stream",
     "text": [
      " 19%|█▊        | 1021/5491 [00:07<00:30, 145.75it/s]"
     ]
    },
    {
     "name": "stdout",
     "output_type": "stream",
     "text": [
      "Step [1000/5491]: Loss = 3.1907920837402344, Accuracy = 0.0\n"
     ]
    },
    {
     "name": "stderr",
     "output_type": "stream",
     "text": [
      " 37%|███▋      | 2020/5491 [00:16<00:25, 133.87it/s]"
     ]
    },
    {
     "name": "stdout",
     "output_type": "stream",
     "text": [
      "Step [2000/5491]: Loss = 3.159695625305176, Accuracy = 0.25\n"
     ]
    },
    {
     "name": "stderr",
     "output_type": "stream",
     "text": [
      " 55%|█████▍    | 3020/5491 [00:25<00:17, 139.77it/s]"
     ]
    },
    {
     "name": "stdout",
     "output_type": "stream",
     "text": [
      "Step [3000/5491]: Loss = 3.1800334453582764, Accuracy = 0.0\n"
     ]
    },
    {
     "name": "stderr",
     "output_type": "stream",
     "text": [
      " 73%|███████▎  | 4017/5491 [00:35<00:11, 130.34it/s]"
     ]
    },
    {
     "name": "stdout",
     "output_type": "stream",
     "text": [
      "Step [4000/5491]: Loss = 3.1896414756774902, Accuracy = 0.0\n"
     ]
    },
    {
     "name": "stderr",
     "output_type": "stream",
     "text": [
      " 91%|█████████ | 5006/5491 [00:44<00:06, 70.25it/s] "
     ]
    },
    {
     "name": "stdout",
     "output_type": "stream",
     "text": [
      "Step [5000/5491]: Loss = 3.1511807441711426, Accuracy = 0.25\n"
     ]
    },
    {
     "name": "stderr",
     "output_type": "stream",
     "text": [
      "100%|██████████| 5491/5491 [00:49<00:00, 110.83it/s]\n",
      "100%|██████████| 1373/1373 [00:04<00:00, 325.71it/s]\n"
     ]
    },
    {
     "name": "stdout",
     "output_type": "stream",
     "text": [
      "Epoch 6/20: Train loss = 3.1767161237240447, Validation loss = 3.1760218131307782, Validation accuracy: 0.0475\n"
     ]
    },
    {
     "name": "stderr",
     "output_type": "stream",
     "text": [
      " 18%|█▊        | 1011/5491 [00:09<00:51, 86.23it/s]"
     ]
    },
    {
     "name": "stdout",
     "output_type": "stream",
     "text": [
      "Step [1000/5491]: Loss = 3.1942896842956543, Accuracy = 0.0\n"
     ]
    },
    {
     "name": "stderr",
     "output_type": "stream",
     "text": [
      " 37%|███▋      | 2021/5491 [00:20<00:35, 97.33it/s] "
     ]
    },
    {
     "name": "stdout",
     "output_type": "stream",
     "text": [
      "Step [2000/5491]: Loss = 3.176994800567627, Accuracy = 0.0\n"
     ]
    },
    {
     "name": "stderr",
     "output_type": "stream",
     "text": [
      " 55%|█████▍    | 3019/5491 [00:29<00:20, 119.05it/s]"
     ]
    },
    {
     "name": "stdout",
     "output_type": "stream",
     "text": [
      "Step [3000/5491]: Loss = 3.1884679794311523, Accuracy = 0.0\n"
     ]
    },
    {
     "name": "stderr",
     "output_type": "stream",
     "text": [
      " 73%|███████▎  | 4015/5491 [00:39<00:12, 115.91it/s]"
     ]
    },
    {
     "name": "stdout",
     "output_type": "stream",
     "text": [
      "Step [4000/5491]: Loss = 3.1930477619171143, Accuracy = 0.0\n"
     ]
    },
    {
     "name": "stderr",
     "output_type": "stream",
     "text": [
      " 91%|█████████▏| 5012/5491 [00:53<00:06, 76.35it/s] "
     ]
    },
    {
     "name": "stdout",
     "output_type": "stream",
     "text": [
      "Step [5000/5491]: Loss = 3.193654775619507, Accuracy = 0.0\n"
     ]
    },
    {
     "name": "stderr",
     "output_type": "stream",
     "text": [
      "100%|██████████| 5491/5491 [00:57<00:00, 94.87it/s] \n",
      "100%|██████████| 1373/1373 [00:04<00:00, 301.33it/s]\n"
     ]
    },
    {
     "name": "stdout",
     "output_type": "stream",
     "text": [
      "Epoch 7/20: Train loss = 3.176422172286562, Validation loss = 3.175198167236895, Validation accuracy: 0.0530\n"
     ]
    },
    {
     "name": "stderr",
     "output_type": "stream",
     "text": [
      " 19%|█▊        | 1022/5491 [00:10<00:33, 135.22it/s]"
     ]
    },
    {
     "name": "stdout",
     "output_type": "stream",
     "text": [
      "Step [1000/5491]: Loss = 3.1728944778442383, Accuracy = 0.0\n"
     ]
    },
    {
     "name": "stderr",
     "output_type": "stream",
     "text": [
      " 37%|███▋      | 2024/5491 [00:19<00:24, 139.76it/s]"
     ]
    },
    {
     "name": "stdout",
     "output_type": "stream",
     "text": [
      "Step [2000/5491]: Loss = 3.1394076347351074, Accuracy = 0.25\n"
     ]
    },
    {
     "name": "stderr",
     "output_type": "stream",
     "text": [
      " 55%|█████▍    | 3018/5491 [00:28<00:20, 119.31it/s]"
     ]
    },
    {
     "name": "stdout",
     "output_type": "stream",
     "text": [
      "Step [3000/5491]: Loss = 3.192993402481079, Accuracy = 0.0\n"
     ]
    },
    {
     "name": "stderr",
     "output_type": "stream",
     "text": [
      " 73%|███████▎  | 4013/5491 [00:41<00:11, 127.74it/s]"
     ]
    },
    {
     "name": "stdout",
     "output_type": "stream",
     "text": [
      "Step [4000/5491]: Loss = 3.170574188232422, Accuracy = 0.0\n"
     ]
    },
    {
     "name": "stderr",
     "output_type": "stream",
     "text": [
      " 91%|█████████▏| 5013/5491 [00:51<00:03, 129.73it/s]"
     ]
    },
    {
     "name": "stdout",
     "output_type": "stream",
     "text": [
      "Step [5000/5491]: Loss = 3.1964216232299805, Accuracy = 0.0\n"
     ]
    },
    {
     "name": "stderr",
     "output_type": "stream",
     "text": [
      "100%|██████████| 5491/5491 [00:56<00:00, 97.97it/s] \n",
      "100%|██████████| 1373/1373 [00:06<00:00, 227.08it/s]\n"
     ]
    },
    {
     "name": "stdout",
     "output_type": "stream",
     "text": [
      "Epoch 8/20: Train loss = 3.1757537791950847, Validation loss = 3.1738101845662783, Validation accuracy: 0.0530\n"
     ]
    },
    {
     "name": "stderr",
     "output_type": "stream",
     "text": [
      " 18%|█▊        | 1011/5491 [00:12<03:20, 22.34it/s]"
     ]
    },
    {
     "name": "stdout",
     "output_type": "stream",
     "text": [
      "Step [1000/5491]: Loss = 3.199976682662964, Accuracy = 0.0\n"
     ]
    },
    {
     "name": "stderr",
     "output_type": "stream",
     "text": [
      " 37%|███▋      | 2018/5491 [00:21<00:27, 126.95it/s]"
     ]
    },
    {
     "name": "stdout",
     "output_type": "stream",
     "text": [
      "Step [2000/5491]: Loss = 3.153576374053955, Accuracy = 0.0\n"
     ]
    },
    {
     "name": "stderr",
     "output_type": "stream",
     "text": [
      " 55%|█████▌    | 3021/5491 [00:29<00:20, 120.67it/s]"
     ]
    },
    {
     "name": "stdout",
     "output_type": "stream",
     "text": [
      "Step [3000/5491]: Loss = 3.0925920009613037, Accuracy = 0.25\n"
     ]
    },
    {
     "name": "stderr",
     "output_type": "stream",
     "text": [
      " 73%|███████▎  | 4020/5491 [00:37<00:11, 132.56it/s]"
     ]
    },
    {
     "name": "stdout",
     "output_type": "stream",
     "text": [
      "Step [4000/5491]: Loss = 3.2064766883850098, Accuracy = 0.0\n"
     ]
    },
    {
     "name": "stderr",
     "output_type": "stream",
     "text": [
      " 91%|█████████▏| 5023/5491 [00:44<00:03, 140.06it/s]"
     ]
    },
    {
     "name": "stdout",
     "output_type": "stream",
     "text": [
      "Step [5000/5491]: Loss = 3.1804933547973633, Accuracy = 0.0\n"
     ]
    },
    {
     "name": "stderr",
     "output_type": "stream",
     "text": [
      "100%|██████████| 5491/5491 [00:48<00:00, 113.57it/s]\n",
      "100%|██████████| 1373/1373 [00:03<00:00, 367.95it/s]\n"
     ]
    },
    {
     "name": "stdout",
     "output_type": "stream",
     "text": [
      "Epoch 9/20: Train loss = 3.173765136383201, Validation loss = 3.168214152698003, Validation accuracy: 0.0544\n"
     ]
    },
    {
     "name": "stderr",
     "output_type": "stream",
     "text": [
      " 19%|█▊        | 1026/5491 [00:07<00:28, 154.91it/s]"
     ]
    },
    {
     "name": "stdout",
     "output_type": "stream",
     "text": [
      "Step [1000/5491]: Loss = 3.214630603790283, Accuracy = 0.0\n"
     ]
    },
    {
     "name": "stderr",
     "output_type": "stream",
     "text": [
      " 37%|███▋      | 2019/5491 [00:14<00:24, 144.53it/s]"
     ]
    },
    {
     "name": "stdout",
     "output_type": "stream",
     "text": [
      "Step [2000/5491]: Loss = 3.188478469848633, Accuracy = 0.0\n"
     ]
    },
    {
     "name": "stderr",
     "output_type": "stream",
     "text": [
      " 55%|█████▍    | 3014/5491 [00:21<00:16, 150.95it/s]"
     ]
    },
    {
     "name": "stdout",
     "output_type": "stream",
     "text": [
      "Step [3000/5491]: Loss = 3.2019152641296387, Accuracy = 0.0\n"
     ]
    },
    {
     "name": "stderr",
     "output_type": "stream",
     "text": [
      " 73%|███████▎  | 4017/5491 [00:28<00:09, 156.20it/s]"
     ]
    },
    {
     "name": "stdout",
     "output_type": "stream",
     "text": [
      "Step [4000/5491]: Loss = 3.1232943534851074, Accuracy = 0.25\n"
     ]
    },
    {
     "name": "stderr",
     "output_type": "stream",
     "text": [
      " 91%|█████████▏| 5011/5491 [00:34<00:03, 144.25it/s]"
     ]
    },
    {
     "name": "stdout",
     "output_type": "stream",
     "text": [
      "Step [5000/5491]: Loss = 3.188262701034546, Accuracy = 0.0\n"
     ]
    },
    {
     "name": "stderr",
     "output_type": "stream",
     "text": [
      "100%|██████████| 5491/5491 [00:39<00:00, 140.79it/s]\n",
      "100%|██████████| 1373/1373 [00:05<00:00, 269.69it/s]\n"
     ]
    },
    {
     "name": "stdout",
     "output_type": "stream",
     "text": [
      "Epoch 10/20: Train loss = 3.166431311418224, Validation loss = 3.1539505425805343, Validation accuracy: 0.0978\n"
     ]
    },
    {
     "name": "stderr",
     "output_type": "stream",
     "text": [
      " 19%|█▊        | 1019/5491 [00:07<00:28, 155.41it/s]"
     ]
    },
    {
     "name": "stdout",
     "output_type": "stream",
     "text": [
      "Step [1000/5491]: Loss = 3.2099437713623047, Accuracy = 0.0\n"
     ]
    },
    {
     "name": "stderr",
     "output_type": "stream",
     "text": [
      " 37%|███▋      | 2026/5491 [00:13<00:22, 153.33it/s]"
     ]
    },
    {
     "name": "stdout",
     "output_type": "stream",
     "text": [
      "Step [2000/5491]: Loss = 3.208364248275757, Accuracy = 0.0\n"
     ]
    },
    {
     "name": "stderr",
     "output_type": "stream",
     "text": [
      " 55%|█████▌    | 3021/5491 [00:21<00:16, 146.22it/s]"
     ]
    },
    {
     "name": "stdout",
     "output_type": "stream",
     "text": [
      "Step [3000/5491]: Loss = 2.9879255294799805, Accuracy = 0.25\n"
     ]
    },
    {
     "name": "stderr",
     "output_type": "stream",
     "text": [
      " 73%|███████▎  | 4022/5491 [00:28<00:09, 149.59it/s]"
     ]
    },
    {
     "name": "stdout",
     "output_type": "stream",
     "text": [
      "Step [4000/5491]: Loss = 3.0089550018310547, Accuracy = 0.25\n"
     ]
    },
    {
     "name": "stderr",
     "output_type": "stream",
     "text": [
      " 92%|█████████▏| 5025/5491 [00:35<00:03, 146.63it/s]"
     ]
    },
    {
     "name": "stdout",
     "output_type": "stream",
     "text": [
      "Step [5000/5491]: Loss = 2.9067044258117676, Accuracy = 0.25\n"
     ]
    },
    {
     "name": "stderr",
     "output_type": "stream",
     "text": [
      "100%|██████████| 5491/5491 [00:39<00:00, 140.36it/s]\n",
      "100%|██████████| 1373/1373 [00:03<00:00, 354.63it/s]\n"
     ]
    },
    {
     "name": "stdout",
     "output_type": "stream",
     "text": [
      "Epoch 11/20: Train loss = 3.145915107548161, Validation loss = 3.1191994779229772, Validation accuracy: 0.1302\n"
     ]
    },
    {
     "name": "stderr",
     "output_type": "stream",
     "text": [
      " 19%|█▊        | 1016/5491 [00:07<00:31, 142.11it/s]"
     ]
    },
    {
     "name": "stdout",
     "output_type": "stream",
     "text": [
      "Step [1000/5491]: Loss = 3.2178220748901367, Accuracy = 0.0\n"
     ]
    },
    {
     "name": "stderr",
     "output_type": "stream",
     "text": [
      " 37%|███▋      | 2005/5491 [00:16<00:27, 126.87it/s]"
     ]
    },
    {
     "name": "stdout",
     "output_type": "stream",
     "text": [
      "Step [2000/5491]: Loss = 3.2372031211853027, Accuracy = 0.0\n"
     ]
    },
    {
     "name": "stderr",
     "output_type": "stream",
     "text": [
      " 55%|█████▍    | 3018/5491 [00:25<00:25, 98.05it/s] "
     ]
    },
    {
     "name": "stdout",
     "output_type": "stream",
     "text": [
      "Step [3000/5491]: Loss = 2.984762668609619, Accuracy = 0.25\n"
     ]
    },
    {
     "name": "stderr",
     "output_type": "stream",
     "text": [
      " 73%|███████▎  | 4018/5491 [00:33<00:12, 119.05it/s]"
     ]
    },
    {
     "name": "stdout",
     "output_type": "stream",
     "text": [
      "Step [4000/5491]: Loss = 3.0886456966400146, Accuracy = 0.25\n"
     ]
    },
    {
     "name": "stderr",
     "output_type": "stream",
     "text": [
      " 91%|█████████▏| 5020/5491 [00:42<00:04, 117.66it/s]"
     ]
    },
    {
     "name": "stdout",
     "output_type": "stream",
     "text": [
      "Step [5000/5491]: Loss = 3.026442766189575, Accuracy = 0.25\n"
     ]
    },
    {
     "name": "stderr",
     "output_type": "stream",
     "text": [
      "100%|██████████| 5491/5491 [00:46<00:00, 118.84it/s]\n",
      "100%|██████████| 1373/1373 [00:04<00:00, 279.37it/s]\n"
     ]
    },
    {
     "name": "stdout",
     "output_type": "stream",
     "text": [
      "Epoch 12/20: Train loss = 3.1076117860578356, Validation loss = 3.077552503855317, Validation accuracy: 0.1817\n"
     ]
    },
    {
     "name": "stderr",
     "output_type": "stream",
     "text": [
      " 19%|█▊        | 1022/5491 [00:07<00:31, 141.73it/s]"
     ]
    },
    {
     "name": "stdout",
     "output_type": "stream",
     "text": [
      "Step [1000/5491]: Loss = 3.230506658554077, Accuracy = 0.0\n"
     ]
    },
    {
     "name": "stderr",
     "output_type": "stream",
     "text": [
      " 37%|███▋      | 2020/5491 [00:14<00:37, 93.46it/s] "
     ]
    },
    {
     "name": "stdout",
     "output_type": "stream",
     "text": [
      "Step [2000/5491]: Loss = 3.0153274536132812, Accuracy = 0.25\n"
     ]
    },
    {
     "name": "stderr",
     "output_type": "stream",
     "text": [
      " 55%|█████▌    | 3025/5491 [00:24<00:15, 155.83it/s]"
     ]
    },
    {
     "name": "stdout",
     "output_type": "stream",
     "text": [
      "Step [3000/5491]: Loss = 2.8341002464294434, Accuracy = 0.5\n"
     ]
    },
    {
     "name": "stderr",
     "output_type": "stream",
     "text": [
      " 73%|███████▎  | 4015/5491 [00:32<00:31, 46.53it/s] "
     ]
    },
    {
     "name": "stdout",
     "output_type": "stream",
     "text": [
      "Step [4000/5491]: Loss = 2.9857609272003174, Accuracy = 0.25\n"
     ]
    },
    {
     "name": "stderr",
     "output_type": "stream",
     "text": [
      " 91%|█████████▏| 5017/5491 [00:40<00:03, 137.81it/s]"
     ]
    },
    {
     "name": "stdout",
     "output_type": "stream",
     "text": [
      "Step [5000/5491]: Loss = 2.6804380416870117, Accuracy = 0.5\n"
     ]
    },
    {
     "name": "stderr",
     "output_type": "stream",
     "text": [
      "100%|██████████| 5491/5491 [00:44<00:00, 123.51it/s]\n",
      "100%|██████████| 1373/1373 [00:04<00:00, 283.38it/s]\n"
     ]
    },
    {
     "name": "stdout",
     "output_type": "stream",
     "text": [
      "Epoch 13/20: Train loss = 3.063821264660178, Validation loss = 3.0255417460867373, Validation accuracy: 0.2340\n"
     ]
    },
    {
     "name": "stderr",
     "output_type": "stream",
     "text": [
      " 19%|█▊        | 1016/5491 [00:07<00:30, 146.66it/s]"
     ]
    },
    {
     "name": "stdout",
     "output_type": "stream",
     "text": [
      "Step [1000/5491]: Loss = 2.7827308177948, Accuracy = 0.5\n"
     ]
    },
    {
     "name": "stderr",
     "output_type": "stream",
     "text": [
      " 37%|███▋      | 2019/5491 [00:17<00:23, 146.67it/s]"
     ]
    },
    {
     "name": "stdout",
     "output_type": "stream",
     "text": [
      "Step [2000/5491]: Loss = 3.2327022552490234, Accuracy = 0.0\n"
     ]
    },
    {
     "name": "stderr",
     "output_type": "stream",
     "text": [
      " 55%|█████▍    | 3012/5491 [00:27<00:19, 126.85it/s]"
     ]
    },
    {
     "name": "stdout",
     "output_type": "stream",
     "text": [
      "Step [3000/5491]: Loss = 2.7543253898620605, Accuracy = 0.5\n"
     ]
    },
    {
     "name": "stderr",
     "output_type": "stream",
     "text": [
      " 73%|███████▎  | 4011/5491 [00:35<00:11, 133.62it/s]"
     ]
    },
    {
     "name": "stdout",
     "output_type": "stream",
     "text": [
      "Step [4000/5491]: Loss = 2.9844651222229004, Accuracy = 0.25\n"
     ]
    },
    {
     "name": "stderr",
     "output_type": "stream",
     "text": [
      " 91%|█████████▏| 5015/5491 [00:42<00:03, 119.47it/s]"
     ]
    },
    {
     "name": "stdout",
     "output_type": "stream",
     "text": [
      "Step [5000/5491]: Loss = 2.9048895835876465, Accuracy = 0.25\n"
     ]
    },
    {
     "name": "stderr",
     "output_type": "stream",
     "text": [
      "100%|██████████| 5491/5491 [00:46<00:00, 117.10it/s]\n",
      "100%|██████████| 1373/1373 [00:04<00:00, 283.05it/s]\n"
     ]
    },
    {
     "name": "stdout",
     "output_type": "stream",
     "text": [
      "Epoch 14/20: Train loss = 3.0122133362946713, Validation loss = 2.993152626396007, Validation accuracy: 0.2567\n"
     ]
    },
    {
     "name": "stderr",
     "output_type": "stream",
     "text": [
      " 18%|█▊        | 1010/5491 [00:10<00:59, 75.76it/s]"
     ]
    },
    {
     "name": "stdout",
     "output_type": "stream",
     "text": [
      "Step [1000/5491]: Loss = 3.0020716190338135, Accuracy = 0.25\n"
     ]
    },
    {
     "name": "stderr",
     "output_type": "stream",
     "text": [
      " 37%|███▋      | 2011/5491 [00:23<00:41, 83.19it/s]"
     ]
    },
    {
     "name": "stdout",
     "output_type": "stream",
     "text": [
      "Step [2000/5491]: Loss = 2.4962143898010254, Accuracy = 0.75\n"
     ]
    },
    {
     "name": "stderr",
     "output_type": "stream",
     "text": [
      " 55%|█████▍    | 3014/5491 [00:34<00:29, 82.95it/s]"
     ]
    },
    {
     "name": "stdout",
     "output_type": "stream",
     "text": [
      "Step [3000/5491]: Loss = 2.5482256412506104, Accuracy = 0.75\n"
     ]
    },
    {
     "name": "stderr",
     "output_type": "stream",
     "text": [
      " 73%|███████▎  | 4017/5491 [00:47<00:15, 96.71it/s]"
     ]
    },
    {
     "name": "stdout",
     "output_type": "stream",
     "text": [
      "Step [4000/5491]: Loss = 2.9934093952178955, Accuracy = 0.25\n"
     ]
    },
    {
     "name": "stderr",
     "output_type": "stream",
     "text": [
      " 91%|█████████▏| 5012/5491 [00:58<00:05, 91.08it/s] "
     ]
    },
    {
     "name": "stdout",
     "output_type": "stream",
     "text": [
      "Step [5000/5491]: Loss = 2.9907472133636475, Accuracy = 0.25\n"
     ]
    },
    {
     "name": "stderr",
     "output_type": "stream",
     "text": [
      "100%|██████████| 5491/5491 [01:04<00:00, 85.17it/s]\n",
      "100%|██████████| 1373/1373 [00:06<00:00, 217.98it/s]\n"
     ]
    },
    {
     "name": "stdout",
     "output_type": "stream",
     "text": [
      "Epoch 15/20: Train loss = 2.9853617372115093, Validation loss = 2.9794493582851245, Validation accuracy: 0.2684\n"
     ]
    },
    {
     "name": "stderr",
     "output_type": "stream",
     "text": [
      " 18%|█▊        | 1011/5491 [00:12<00:53, 84.03it/s]"
     ]
    },
    {
     "name": "stdout",
     "output_type": "stream",
     "text": [
      "Step [1000/5491]: Loss = 3.239593029022217, Accuracy = 0.0\n"
     ]
    },
    {
     "name": "stderr",
     "output_type": "stream",
     "text": [
      " 37%|███▋      | 2007/5491 [00:24<00:39, 87.86it/s]"
     ]
    },
    {
     "name": "stdout",
     "output_type": "stream",
     "text": [
      "Step [2000/5491]: Loss = 3.2355995178222656, Accuracy = 0.0\n"
     ]
    },
    {
     "name": "stderr",
     "output_type": "stream",
     "text": [
      " 55%|█████▍    | 3008/5491 [00:37<00:29, 85.31it/s]"
     ]
    },
    {
     "name": "stdout",
     "output_type": "stream",
     "text": [
      "Step [3000/5491]: Loss = 2.9960739612579346, Accuracy = 0.25\n"
     ]
    },
    {
     "name": "stderr",
     "output_type": "stream",
     "text": [
      " 73%|███████▎  | 4015/5491 [00:50<00:16, 88.04it/s]"
     ]
    },
    {
     "name": "stdout",
     "output_type": "stream",
     "text": [
      "Step [4000/5491]: Loss = 2.991823434829712, Accuracy = 0.25\n"
     ]
    },
    {
     "name": "stderr",
     "output_type": "stream",
     "text": [
      " 91%|█████████▏| 5015/5491 [01:02<00:05, 87.64it/s]"
     ]
    },
    {
     "name": "stdout",
     "output_type": "stream",
     "text": [
      "Step [5000/5491]: Loss = 2.9967472553253174, Accuracy = 0.25\n"
     ]
    },
    {
     "name": "stderr",
     "output_type": "stream",
     "text": [
      "100%|██████████| 5491/5491 [01:08<00:00, 80.71it/s]\n",
      "100%|██████████| 1373/1373 [00:06<00:00, 210.58it/s]\n"
     ]
    },
    {
     "name": "stdout",
     "output_type": "stream",
     "text": [
      "Epoch 16/20: Train loss = 2.969766327340927, Validation loss = 2.9516797630090568, Validation accuracy: 0.2957\n"
     ]
    },
    {
     "name": "stderr",
     "output_type": "stream",
     "text": [
      " 18%|█▊        | 1012/5491 [00:12<01:06, 67.10it/s]"
     ]
    },
    {
     "name": "stdout",
     "output_type": "stream",
     "text": [
      "Step [1000/5491]: Loss = 3.2363319396972656, Accuracy = 0.0\n"
     ]
    },
    {
     "name": "stderr",
     "output_type": "stream",
     "text": [
      " 37%|███▋      | 2014/5491 [00:25<00:37, 91.99it/s]"
     ]
    },
    {
     "name": "stdout",
     "output_type": "stream",
     "text": [
      "Step [2000/5491]: Loss = 3.2410874366760254, Accuracy = 0.0\n"
     ]
    },
    {
     "name": "stderr",
     "output_type": "stream",
     "text": [
      " 55%|█████▍    | 3016/5491 [00:39<00:26, 92.78it/s]"
     ]
    },
    {
     "name": "stdout",
     "output_type": "stream",
     "text": [
      "Step [3000/5491]: Loss = 2.8128814697265625, Accuracy = 0.5\n"
     ]
    },
    {
     "name": "stderr",
     "output_type": "stream",
     "text": [
      " 73%|███████▎  | 4013/5491 [00:50<00:16, 87.81it/s]"
     ]
    },
    {
     "name": "stdout",
     "output_type": "stream",
     "text": [
      "Step [4000/5491]: Loss = 3.1752521991729736, Accuracy = 0.0\n"
     ]
    },
    {
     "name": "stderr",
     "output_type": "stream",
     "text": [
      " 91%|█████████▏| 5014/5491 [01:02<00:05, 91.44it/s] "
     ]
    },
    {
     "name": "stdout",
     "output_type": "stream",
     "text": [
      "Step [5000/5491]: Loss = 2.887427806854248, Accuracy = 0.5\n"
     ]
    },
    {
     "name": "stderr",
     "output_type": "stream",
     "text": [
      "100%|██████████| 5491/5491 [01:09<00:00, 79.53it/s]\n",
      "100%|██████████| 1373/1373 [00:20<00:00, 67.03it/s] \n"
     ]
    },
    {
     "name": "stdout",
     "output_type": "stream",
     "text": [
      "Epoch 17/20: Train loss = 2.945211130377374, Validation loss = 2.90135719614661, Validation accuracy: 0.3567\n"
     ]
    },
    {
     "name": "stderr",
     "output_type": "stream",
     "text": [
      " 18%|█▊        | 1010/5491 [00:13<00:51, 86.75it/s]"
     ]
    },
    {
     "name": "stdout",
     "output_type": "stream",
     "text": [
      "Step [1000/5491]: Loss = 2.7466726303100586, Accuracy = 0.5\n"
     ]
    },
    {
     "name": "stderr",
     "output_type": "stream",
     "text": [
      " 37%|███▋      | 2012/5491 [00:25<00:40, 85.74it/s]"
     ]
    },
    {
     "name": "stdout",
     "output_type": "stream",
     "text": [
      "Step [2000/5491]: Loss = 2.982682228088379, Accuracy = 0.25\n"
     ]
    },
    {
     "name": "stderr",
     "output_type": "stream",
     "text": [
      " 55%|█████▍    | 3017/5491 [00:38<00:31, 79.65it/s]"
     ]
    },
    {
     "name": "stdout",
     "output_type": "stream",
     "text": [
      "Step [3000/5491]: Loss = 2.9671034812927246, Accuracy = 0.25\n"
     ]
    },
    {
     "name": "stderr",
     "output_type": "stream",
     "text": [
      " 73%|███████▎  | 4010/5491 [00:52<00:21, 70.27it/s]"
     ]
    },
    {
     "name": "stdout",
     "output_type": "stream",
     "text": [
      "Step [4000/5491]: Loss = 3.133586883544922, Accuracy = 0.0\n"
     ]
    },
    {
     "name": "stderr",
     "output_type": "stream",
     "text": [
      " 91%|█████████ | 5009/5491 [01:04<00:06, 78.50it/s]"
     ]
    },
    {
     "name": "stdout",
     "output_type": "stream",
     "text": [
      "Step [5000/5491]: Loss = 2.78014874458313, Accuracy = 0.5\n"
     ]
    },
    {
     "name": "stderr",
     "output_type": "stream",
     "text": [
      "100%|██████████| 5491/5491 [01:10<00:00, 77.40it/s]\n",
      "100%|██████████| 1373/1373 [00:06<00:00, 215.71it/s]\n"
     ]
    },
    {
     "name": "stdout",
     "output_type": "stream",
     "text": [
      "Epoch 18/20: Train loss = 2.907962999064248, Validation loss = 2.8789528225428502, Validation accuracy: 0.3736\n"
     ]
    },
    {
     "name": "stderr",
     "output_type": "stream",
     "text": [
      " 18%|█▊        | 1007/5491 [00:12<01:12, 61.76it/s]"
     ]
    },
    {
     "name": "stdout",
     "output_type": "stream",
     "text": [
      "Step [1000/5491]: Loss = 2.506162643432617, Accuracy = 0.75\n"
     ]
    },
    {
     "name": "stderr",
     "output_type": "stream",
     "text": [
      " 37%|███▋      | 2014/5491 [00:24<00:50, 68.78it/s]"
     ]
    },
    {
     "name": "stdout",
     "output_type": "stream",
     "text": [
      "Step [2000/5491]: Loss = 3.2464382648468018, Accuracy = 0.0\n"
     ]
    },
    {
     "name": "stderr",
     "output_type": "stream",
     "text": [
      " 55%|█████▍    | 3013/5491 [00:37<00:28, 87.07it/s]"
     ]
    },
    {
     "name": "stdout",
     "output_type": "stream",
     "text": [
      "Step [3000/5491]: Loss = 2.9962542057037354, Accuracy = 0.25\n"
     ]
    },
    {
     "name": "stderr",
     "output_type": "stream",
     "text": [
      " 73%|███████▎  | 4009/5491 [00:49<00:17, 83.22it/s]"
     ]
    },
    {
     "name": "stdout",
     "output_type": "stream",
     "text": [
      "Step [4000/5491]: Loss = 2.9780545234680176, Accuracy = 0.25\n"
     ]
    },
    {
     "name": "stderr",
     "output_type": "stream",
     "text": [
      " 91%|█████████▏| 5016/5491 [01:01<00:05, 79.62it/s] "
     ]
    },
    {
     "name": "stdout",
     "output_type": "stream",
     "text": [
      "Step [5000/5491]: Loss = 3.2314939498901367, Accuracy = 0.0\n"
     ]
    },
    {
     "name": "stderr",
     "output_type": "stream",
     "text": [
      "100%|██████████| 5491/5491 [01:07<00:00, 81.32it/s]\n",
      "100%|██████████| 1373/1373 [00:06<00:00, 223.75it/s]\n"
     ]
    },
    {
     "name": "stdout",
     "output_type": "stream",
     "text": [
      "Epoch 19/20: Train loss = 2.8969069363054434, Validation loss = 2.8627196335914094, Validation accuracy: 0.3882\n"
     ]
    },
    {
     "name": "stderr",
     "output_type": "stream",
     "text": [
      " 18%|█▊        | 1007/5491 [00:13<01:14, 59.89it/s]"
     ]
    },
    {
     "name": "stdout",
     "output_type": "stream",
     "text": [
      "Step [1000/5491]: Loss = 2.5305683612823486, Accuracy = 0.75\n"
     ]
    },
    {
     "name": "stderr",
     "output_type": "stream",
     "text": [
      " 37%|███▋      | 2011/5491 [00:26<00:41, 84.25it/s]"
     ]
    },
    {
     "name": "stdout",
     "output_type": "stream",
     "text": [
      "Step [2000/5491]: Loss = 2.768057107925415, Accuracy = 0.5\n"
     ]
    },
    {
     "name": "stderr",
     "output_type": "stream",
     "text": [
      " 55%|█████▍    | 3006/5491 [00:37<00:25, 96.88it/s] "
     ]
    },
    {
     "name": "stdout",
     "output_type": "stream",
     "text": [
      "Step [3000/5491]: Loss = 2.744553327560425, Accuracy = 0.5\n"
     ]
    },
    {
     "name": "stderr",
     "output_type": "stream",
     "text": [
      " 73%|███████▎  | 4014/5491 [00:51<00:18, 81.92it/s]"
     ]
    },
    {
     "name": "stdout",
     "output_type": "stream",
     "text": [
      "Step [4000/5491]: Loss = 2.9825048446655273, Accuracy = 0.25\n"
     ]
    },
    {
     "name": "stderr",
     "output_type": "stream",
     "text": [
      " 91%|█████████ | 5008/5491 [01:05<00:06, 72.16it/s]"
     ]
    },
    {
     "name": "stdout",
     "output_type": "stream",
     "text": [
      "Step [5000/5491]: Loss = 2.9972643852233887, Accuracy = 0.25\n"
     ]
    },
    {
     "name": "stderr",
     "output_type": "stream",
     "text": [
      "100%|██████████| 5491/5491 [01:13<00:00, 74.93it/s]\n",
      "100%|██████████| 1373/1373 [00:07<00:00, 183.14it/s]"
     ]
    },
    {
     "name": "stdout",
     "output_type": "stream",
     "text": [
      "Epoch 20/20: Train loss = 2.8892065850009336, Validation loss = 2.8637688772919745, Validation accuracy: 0.3864\n"
     ]
    },
    {
     "name": "stderr",
     "output_type": "stream",
     "text": [
      "\n"
     ]
    }
   ],
   "source": [
    "def get_accuracy (y_true, y_pred):\n",
    "    return (y_pred == y_true).sum().item()/len(y_true)\n",
    "\n",
    "def train_fn(data_loader, model, optimizer, device):\n",
    "    model.train()\n",
    "    final_loss = 0.0\n",
    "    for i, data in enumerate(tqdm(data_loader, total = len(data_loader))):\n",
    "        # get input, and send to device\n",
    "        inputs, labels = data[0].to(device), data[1].to(device) #, torch.float, , dtype=torch.int64\n",
    "        # zero the gradient\n",
    "        optimizer.zero_grad()\n",
    "\n",
    "        # forward\n",
    "        outputs = model(inputs) \n",
    "        _, pred_labels = torch.max(outputs.data, 1)\n",
    "        loss = loss_fn(outputs, labels)\n",
    "\n",
    "        # backward\n",
    "        loss.backward()\n",
    "        optimizer.step()\n",
    "        \n",
    "        # print loss every 1000 steps\n",
    "        if (i+1) % 1000 == 0:\n",
    "            print(f'Step [{i+1}/{len(data_loader)}]: Loss = {loss.item()}, Accuracy = {get_accuracy(labels, pred_labels)}')\n",
    "\n",
    "        # save loss\n",
    "        final_loss +=loss.item()\n",
    "    return final_loss/len(data_loader)\n",
    "\n",
    "\n",
    "def eval_fn(data_loader, model):\n",
    "    model.eval()\n",
    "    total = 0\n",
    "    correct = 0\n",
    "    final_loss = 0.0\n",
    "    predictions = []\n",
    "    with torch.no_grad():\n",
    "        for data in tqdm(data_loader, total = len(data_loader)):\n",
    "            inputs, labels = data\n",
    "            outputs = model(inputs)\n",
    "\n",
    "            loss = loss_fn(outputs, labels)\n",
    "            final_loss +=loss.item()\n",
    "\n",
    "            _, pred_labels = torch.max(outputs.data, 1)\n",
    "            predictions.append(pred_labels)\n",
    "            # print('labels.size(0)', labels.size(0))\n",
    "            total+= 1 #labels.size(0)\n",
    "            correct+= get_accuracy(labels, pred_labels)\n",
    "            # print(f'correct / total: {correct} / {total}')\n",
    "\n",
    "    return final_loss/len(data_loader), correct / total, predictions\n",
    "\n",
    "device = torch.device('cuda:0' if torch.cuda.is_available() else 'cpu')\n",
    "model.to(device)    \n",
    "\n",
    "train_loss_values, validation_loss_values = [], []\n",
    "best_loss = np.inf\n",
    "\n",
    "for epoch in range(epochs):\n",
    "    train_loss = train_fn(train_dataloader, model, optimizer, device)\n",
    "    train_loss_values.append(train_loss)\n",
    "    \n",
    "    val_loss, val_accuracy, _ = eval_fn(val_dataloader, model)\n",
    "    validation_loss_values.append(val_loss)\n",
    "\n",
    "    # saving the best model\n",
    "    checkpoint_p = './asl.pth'\n",
    "    if val_loss < best_loss:\n",
    "        torch.save(model.state_dict(), checkpoint_p)\n",
    "        best_loss = val_loss\n",
    "        best_model_wts = copy.deepcopy(model.state_dict())\n",
    "    print(f'Epoch {epoch+1}/{epochs}: Train loss = {train_loss}, Validation loss = {val_loss}, Validation accuracy: {val_accuracy:.4f}')\n",
    "\n",
    "\n"
   ]
  },
  {
   "cell_type": "markdown",
   "metadata": {},
   "source": [
    "## Testing model"
   ]
  },
  {
   "cell_type": "code",
   "execution_count": 17,
   "metadata": {},
   "outputs": [
    {
     "name": "stderr",
     "output_type": "stream",
     "text": [
      "100%|██████████| 1793/1793 [00:09<00:00, 196.38it/s]"
     ]
    },
    {
     "name": "stdout",
     "output_type": "stream",
     "text": [
      "Model performance on test set: Accuracy = 0.2639431121026213\n"
     ]
    },
    {
     "name": "stderr",
     "output_type": "stream",
     "text": [
      "\n"
     ]
    }
   ],
   "source": [
    "model.load_state_dict(best_model_wts)\n",
    "_, test_accuracy, test_preds = eval_fn(test_dataloader, model)\n",
    "print(f'Model performance on test set: Accuracy = {test_accuracy}')"
   ]
  }
 ],
 "metadata": {
  "kernelspec": {
   "display_name": "Python 3.10.8 64-bit (microsoft store)",
   "language": "python",
   "name": "python3"
  },
  "language_info": {
   "codemirror_mode": {
    "name": "ipython",
    "version": 3
   },
   "file_extension": ".py",
   "mimetype": "text/x-python",
   "name": "python",
   "nbconvert_exporter": "python",
   "pygments_lexer": "ipython3",
   "version": "3.10.8"
  },
  "orig_nbformat": 4,
  "vscode": {
   "interpreter": {
    "hash": "95684bf35b52fd355f8b64198f517869e308ec096e50f26d143db610b46fcfbe"
   }
  }
 },
 "nbformat": 4,
 "nbformat_minor": 2
}
