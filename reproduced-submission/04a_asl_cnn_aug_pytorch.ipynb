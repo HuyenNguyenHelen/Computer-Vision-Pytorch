{
 "cells": [
  {
   "cell_type": "code",
   "execution_count": null,
   "metadata": {},
   "outputs": [
    {
     "name": "stderr",
     "output_type": "stream",
     "text": [
      "C:\\Users\\huyen\\AppData\\Local\\Packages\\PythonSoftwareFoundation.Python.3.10_qbz5n2kfra8p0\\LocalCache\\local-packages\\Python310\\site-packages\\tqdm\\auto.py:22: TqdmWarning: IProgress not found. Please update jupyter and ipywidgets. See https://ipywidgets.readthedocs.io/en/stable/user_install.html\n",
      "  from .autonotebook import tqdm as notebook_tqdm\n"
     ]
    }
   ],
   "source": [
    "import torch\n",
    "import torchvision\n",
    "import torchvision.transforms as transforms\n",
    "import torch.nn as nn\n",
    "import torch.nn.functional as F\n",
    "import torch.optim as optim\n",
    "from torch.utils.data import DataLoader\n",
    "import torch.utils.data as data_utils\n",
    "\n",
    "import matplotlib.pyplot as plt\n",
    "from tqdm import tqdm\n",
    "import copy\n",
    "\n",
    "import numpy as np\n",
    "import random\n",
    "import pandas as pd\n",
    "import sklearn\n",
    "from sklearn.model_selection import train_test_split"
   ]
  },
  {
   "cell_type": "markdown",
   "metadata": {},
   "source": [
    "## Hyperparameters"
   ]
  },
  {
   "cell_type": "code",
   "execution_count": null,
   "metadata": {},
   "outputs": [],
   "source": [
    "epochs = 30\n",
    "batch_size = 32"
   ]
  },
  {
   "cell_type": "markdown",
   "metadata": {},
   "source": [
    "## Loading data"
   ]
  },
  {
   "cell_type": "code",
   "execution_count": null,
   "metadata": {},
   "outputs": [
    {
     "name": "stdout",
     "output_type": "stream",
     "text": [
      "Train set shape: (27455, 785). Test set shape: (7172, 785)\n"
     ]
    }
   ],
   "source": [
    "\n",
    "train_p = r'C:\\Users\\huyen\\OneDrive - UNT System\\A_PhD_PATH\\COURSES\\CSCE 5218\\Project\\Computer-Vision-Project\\Computer-Vision-Project\\data\\asl_data\\sign_mnist_train.csv'\n",
    "test_p = r'C:\\Users\\huyen\\OneDrive - UNT System\\A_PhD_PATH\\COURSES\\CSCE 5218\\Project\\Computer-Vision-Project\\Computer-Vision-Project\\data\\asl_data\\sign_mnist_valid.csv'\n",
    "# train_p = r'C:\\Users\\huyen\\OneDrive - UNT System\\A_PhD_PATH\\COURSES\\CSCE 5218\\Project\\Computer-Vision-Project\\Computer-Vision-Project\\reproduced-submission\\data\\asl_data\\sign_mnist_train.csv'\n",
    "# test_p = r'C:\\Users\\huyen\\OneDrive - UNT System\\A_PhD_PATH\\COURSES\\CSCE 5218\\Project\\Computer-Vision-Project\\Computer-Vision-Project\\reproduced-submission\\data\\asl_data\\sign_mnist_test.csv'\n",
    "train_data = pd.read_csv(train_p,  sep=',')\n",
    "test_data = pd.read_csv(test_p,  sep=',')\n",
    "print(f'Train set shape: {train_data.shape}. Test set shape: {test_data.shape}')"
   ]
  },
  {
   "cell_type": "code",
   "execution_count": null,
   "metadata": {},
   "outputs": [
    {
     "data": {
      "text/html": [
       "<div>\n",
       "<style scoped>\n",
       "    .dataframe tbody tr th:only-of-type {\n",
       "        vertical-align: middle;\n",
       "    }\n",
       "\n",
       "    .dataframe tbody tr th {\n",
       "        vertical-align: top;\n",
       "    }\n",
       "\n",
       "    .dataframe thead th {\n",
       "        text-align: right;\n",
       "    }\n",
       "</style>\n",
       "<table border=\"1\" class=\"dataframe\">\n",
       "  <thead>\n",
       "    <tr style=\"text-align: right;\">\n",
       "      <th></th>\n",
       "      <th>label</th>\n",
       "      <th>pixel1</th>\n",
       "      <th>pixel2</th>\n",
       "      <th>pixel3</th>\n",
       "      <th>pixel4</th>\n",
       "      <th>pixel5</th>\n",
       "      <th>pixel6</th>\n",
       "      <th>pixel7</th>\n",
       "      <th>pixel8</th>\n",
       "      <th>pixel9</th>\n",
       "      <th>...</th>\n",
       "      <th>pixel775</th>\n",
       "      <th>pixel776</th>\n",
       "      <th>pixel777</th>\n",
       "      <th>pixel778</th>\n",
       "      <th>pixel779</th>\n",
       "      <th>pixel780</th>\n",
       "      <th>pixel781</th>\n",
       "      <th>pixel782</th>\n",
       "      <th>pixel783</th>\n",
       "      <th>pixel784</th>\n",
       "    </tr>\n",
       "  </thead>\n",
       "  <tbody>\n",
       "    <tr>\n",
       "      <th>0</th>\n",
       "      <td>3</td>\n",
       "      <td>107</td>\n",
       "      <td>118</td>\n",
       "      <td>127</td>\n",
       "      <td>134</td>\n",
       "      <td>139</td>\n",
       "      <td>143</td>\n",
       "      <td>146</td>\n",
       "      <td>150</td>\n",
       "      <td>153</td>\n",
       "      <td>...</td>\n",
       "      <td>207</td>\n",
       "      <td>207</td>\n",
       "      <td>207</td>\n",
       "      <td>207</td>\n",
       "      <td>206</td>\n",
       "      <td>206</td>\n",
       "      <td>206</td>\n",
       "      <td>204</td>\n",
       "      <td>203</td>\n",
       "      <td>202</td>\n",
       "    </tr>\n",
       "    <tr>\n",
       "      <th>1</th>\n",
       "      <td>6</td>\n",
       "      <td>155</td>\n",
       "      <td>157</td>\n",
       "      <td>156</td>\n",
       "      <td>156</td>\n",
       "      <td>156</td>\n",
       "      <td>157</td>\n",
       "      <td>156</td>\n",
       "      <td>158</td>\n",
       "      <td>158</td>\n",
       "      <td>...</td>\n",
       "      <td>69</td>\n",
       "      <td>149</td>\n",
       "      <td>128</td>\n",
       "      <td>87</td>\n",
       "      <td>94</td>\n",
       "      <td>163</td>\n",
       "      <td>175</td>\n",
       "      <td>103</td>\n",
       "      <td>135</td>\n",
       "      <td>149</td>\n",
       "    </tr>\n",
       "    <tr>\n",
       "      <th>2</th>\n",
       "      <td>2</td>\n",
       "      <td>187</td>\n",
       "      <td>188</td>\n",
       "      <td>188</td>\n",
       "      <td>187</td>\n",
       "      <td>187</td>\n",
       "      <td>186</td>\n",
       "      <td>187</td>\n",
       "      <td>188</td>\n",
       "      <td>187</td>\n",
       "      <td>...</td>\n",
       "      <td>202</td>\n",
       "      <td>201</td>\n",
       "      <td>200</td>\n",
       "      <td>199</td>\n",
       "      <td>198</td>\n",
       "      <td>199</td>\n",
       "      <td>198</td>\n",
       "      <td>195</td>\n",
       "      <td>194</td>\n",
       "      <td>195</td>\n",
       "    </tr>\n",
       "    <tr>\n",
       "      <th>3</th>\n",
       "      <td>2</td>\n",
       "      <td>211</td>\n",
       "      <td>211</td>\n",
       "      <td>212</td>\n",
       "      <td>212</td>\n",
       "      <td>211</td>\n",
       "      <td>210</td>\n",
       "      <td>211</td>\n",
       "      <td>210</td>\n",
       "      <td>210</td>\n",
       "      <td>...</td>\n",
       "      <td>235</td>\n",
       "      <td>234</td>\n",
       "      <td>233</td>\n",
       "      <td>231</td>\n",
       "      <td>230</td>\n",
       "      <td>226</td>\n",
       "      <td>225</td>\n",
       "      <td>222</td>\n",
       "      <td>229</td>\n",
       "      <td>163</td>\n",
       "    </tr>\n",
       "    <tr>\n",
       "      <th>4</th>\n",
       "      <td>12</td>\n",
       "      <td>164</td>\n",
       "      <td>167</td>\n",
       "      <td>170</td>\n",
       "      <td>172</td>\n",
       "      <td>176</td>\n",
       "      <td>179</td>\n",
       "      <td>180</td>\n",
       "      <td>184</td>\n",
       "      <td>185</td>\n",
       "      <td>...</td>\n",
       "      <td>92</td>\n",
       "      <td>105</td>\n",
       "      <td>105</td>\n",
       "      <td>108</td>\n",
       "      <td>133</td>\n",
       "      <td>163</td>\n",
       "      <td>157</td>\n",
       "      <td>163</td>\n",
       "      <td>164</td>\n",
       "      <td>179</td>\n",
       "    </tr>\n",
       "  </tbody>\n",
       "</table>\n",
       "<p>5 rows × 785 columns</p>\n",
       "</div>"
      ],
      "text/plain": [
       "   label  pixel1  pixel2  pixel3  pixel4  pixel5  pixel6  pixel7  pixel8  \\\n",
       "0      3     107     118     127     134     139     143     146     150   \n",
       "1      6     155     157     156     156     156     157     156     158   \n",
       "2      2     187     188     188     187     187     186     187     188   \n",
       "3      2     211     211     212     212     211     210     211     210   \n",
       "4     12     164     167     170     172     176     179     180     184   \n",
       "\n",
       "   pixel9  ...  pixel775  pixel776  pixel777  pixel778  pixel779  pixel780  \\\n",
       "0     153  ...       207       207       207       207       206       206   \n",
       "1     158  ...        69       149       128        87        94       163   \n",
       "2     187  ...       202       201       200       199       198       199   \n",
       "3     210  ...       235       234       233       231       230       226   \n",
       "4     185  ...        92       105       105       108       133       163   \n",
       "\n",
       "   pixel781  pixel782  pixel783  pixel784  \n",
       "0       206       204       203       202  \n",
       "1       175       103       135       149  \n",
       "2       198       195       194       195  \n",
       "3       225       222       229       163  \n",
       "4       157       163       164       179  \n",
       "\n",
       "[5 rows x 785 columns]"
      ]
     },
     "execution_count": 4,
     "metadata": {},
     "output_type": "execute_result"
    }
   ],
   "source": [
    "train_data.head()"
   ]
  },
  {
   "cell_type": "markdown",
   "metadata": {},
   "source": [
    "#### Exploring the class labels to consider encoding them if neccessary"
   ]
  },
  {
   "cell_type": "code",
   "execution_count": null,
   "metadata": {},
   "outputs": [
    {
     "name": "stdout",
     "output_type": "stream",
     "text": [
      "classes:  {0, 1, 2, 3, 4, 5, 6, 7, 8, 9, 10, 11, 12, 13, 14, 15, 16, 17, 18, 19, 20, 21, 22, 23}\n",
      "number of classes:  24\n"
     ]
    }
   ],
   "source": [
    "uniq_classes = set(list(train_data['label'])+list(test_data['label']))\n",
    "n_classes = len(uniq_classes)\n",
    "print('classes: ', uniq_classes)\n",
    "print('number of classes: ', n_classes)\n"
   ]
  },
  {
   "cell_type": "markdown",
   "metadata": {},
   "source": [
    "The class 9 and 25 are missing. Therefore, let's reencode the labels."
   ]
  },
  {
   "cell_type": "code",
   "execution_count": null,
   "metadata": {},
   "outputs": [],
   "source": [
    "# label_mapping = {k:v for k, v in zip(list(uniq_classes), list(range(n_classes)))}\n",
    "# print(label_mapping)\n",
    "\n",
    "# def label_mapper(label):\n",
    "#     return label_mapping[label]\n",
    "\n",
    "# train_data['label'] = train_data['label'].apply(label_mapper)\n",
    "# test_data['label'] = test_data['label'].apply(label_mapper)\n"
   ]
  },
  {
   "cell_type": "markdown",
   "metadata": {},
   "source": [
    "## Preparing data"
   ]
  },
  {
   "cell_type": "code",
   "execution_count": null,
   "metadata": {},
   "outputs": [
    {
     "name": "stdout",
     "output_type": "stream",
     "text": [
      "X_train shape: (27455, 28, 28, 1). y_train shape: (27455,)\n",
      "X_test shape: (7172, 28, 28, 1). y_test shape: (7172,)\n"
     ]
    }
   ],
   "source": [
    "y_train = train_data['label']\n",
    "y_val = test_data['label']\n",
    "del train_data['label']\n",
    "del test_data['label']\n",
    "\n",
    "X_train = train_data.values.reshape(-1,28,28,1)\n",
    "X_val = test_data.values.reshape(-1,28,28,1)\n",
    "\n",
    "print(f'X_train shape: {X_train.shape}. y_train shape: {y_train.shape}')\n",
    "print(f'X_test shape: {X_val.shape}. y_test shape: {y_val.shape}')"
   ]
  },
  {
   "cell_type": "code",
   "execution_count": null,
   "metadata": {},
   "outputs": [],
   "source": [
    "# y_train = train_data['label']\n",
    "# y_test = test_data['label']\n",
    "# del train_data['label']\n",
    "# del test_data['label']\n",
    "\n",
    "# X_train = train_data.values.reshape(-1,28,28, 1)\n",
    "# X_test = test_data.values.reshape(-1,28,28, 1)\n"
   ]
  },
  {
   "cell_type": "markdown",
   "metadata": {},
   "source": [
    "### Spliting data"
   ]
  },
  {
   "cell_type": "code",
   "execution_count": null,
   "metadata": {},
   "outputs": [],
   "source": [
    "# # Spliting the training data into two sets for training and validation\n",
    "# X_train, X_val, y_train, y_val = train_test_split(_X_train, _y_train, test_size=0.2, random_state=42)\n",
    "\n",
    "# print(f'X_train shape: {X_train.shape}. y_train shape: {y_train.shape}')\n",
    "# print(f'X_val shape: {X_val.shape}. y_val shape: {y_val.shape}')\n",
    "# print(f'X_test shape: {X_test.shape}. y_test shape: {y_test.shape}')"
   ]
  },
  {
   "cell_type": "markdown",
   "metadata": {},
   "source": [
    "### Showing some image and label examples"
   ]
  },
  {
   "cell_type": "code",
   "execution_count": null,
   "metadata": {},
   "outputs": [
    {
     "data": {
      "image/png": "[encoded data removed]",
      "text/plain": [
       "<Figure size 432x288 with 17 Axes>"
      ]
     },
     "metadata": {
      "needs_background": "light"
     },
     "output_type": "display_data"
    }
   ],
   "source": [
    "# Showing image examples\n",
    "def show_imgs(feature_lists, labels):\n",
    "    for i, (features, label) in enumerate(zip (feature_lists, labels)):\n",
    "        image = features.reshape(28, 28)\n",
    "        plt.subplot(1, len(labels), i+1)\n",
    "        plt.title(label, fontdict={'fontsize': 10})\n",
    "        plt.axis('off')\n",
    "        plt.imshow(image, cmap='gray')\n",
    "\n",
    "show_imgs(X_train[:17], y_train[:17])"
   ]
  },
  {
   "cell_type": "markdown",
   "metadata": {},
   "source": [
    "### Normalize the data\n"
   ]
  },
  {
   "cell_type": "code",
   "execution_count": null,
   "metadata": {},
   "outputs": [
    {
     "name": "stdout",
     "output_type": "stream",
     "text": [
      "X_train: min= 0, max=255\n",
      "X_train: min= 0, max=255\n",
      "X_val: min= 0, max=255\n"
     ]
    }
   ],
   "source": [
    "# Exploring min and max values of image pixels\n",
    "print(f'X_train: min= {X_train.min()}, max={X_train.max()}')\n",
    "\n",
    "# Normalize images by dividing pixel values by the max\n",
    "X_train = X_train#/255\n",
    "X_val = X_val#/255\n",
    "# X_test = X_test/255\n",
    "\n",
    "y_train = y_train.values\n",
    "y_val = y_val.values\n",
    "# y_test = y_test.values\n",
    "\n",
    "print(f'X_train: min= {X_train.min()}, max={X_train.max()}')\n",
    "print(f'X_val: min= {X_val.min()}, max={X_val.max()}')\n",
    "# print(f'X_test: min= {X_test.min()}, max={X_test.max()}')"
   ]
  },
  {
   "cell_type": "markdown",
   "metadata": {},
   "source": [
    "### Loading data to Dataset and Dataloader object"
   ]
  },
  {
   "cell_type": "code",
   "execution_count": null,
   "metadata": {},
   "outputs": [],
   "source": [
    "class SignALSDataset():\n",
    "    def __init__(self, X, Y) -> None:\n",
    "        super(SignALSDataset, self).__init__()\n",
    "        self.X = np.array(X, dtype=np.uint8)\n",
    "        self.Y = Y\n",
    "    \n",
    "    def __len__(self):\n",
    "        return len(self.Y)\n",
    "    \n",
    "    def __getitem__(self, idx):\n",
    "        if torch.is_tensor(idx):\n",
    "            idx = idx.tolist()\n",
    "        else:\n",
    "            idx = idx\n",
    "       \n",
    "        transform = transforms.Compose([transforms.ToPILImage(),\n",
    "                                        transforms.RandomRotation(10), # randomly rotate images\n",
    "                                        transforms.RandomResizedCrop(28, scale=(0.8, 1.2)),\n",
    "                                        transforms.RandomAffine(0,translate=(0.1, 0.1)), # randomly shift images horizontally and vertically\n",
    "                                        transforms.RandomHorizontalFlip(0.1), # randomly flip images horizontally\n",
    "                                        transforms.ToTensor(),\n",
    "                                        transforms.Normalize((0.5,), (0.5,))]) \n",
    "        trans_x = transform(self.X[idx]).float()\n",
    "        # print('trans_x.size()', trans_x.size())\n",
    "        # print('trans_x.min()', trans_x.min(), trans_x.max())\n",
    "\n",
    "        y = torch.tensor(self.Y[idx], dtype = torch.long)\n",
    "        return trans_x, y\n",
    "        \n",
    "# passing data to the customized dataset class we created\n",
    "train_datatensor = SignALSDataset(X_train, y_train)\n",
    "val_datatensor = SignALSDataset(X_val, y_val)\n",
    "# test_datatensor = SignALSDataset(X_test, y_test)\n",
    "\n",
    "# loading datasets to pytorch dataloader object\n",
    "train_dataloader = DataLoader(train_datatensor, sampler = torch.utils.data.RandomSampler(train_datatensor), batch_size=batch_size )\n",
    "val_dataloader = DataLoader(val_datatensor, sampler = torch.utils.data.SequentialSampler(val_datatensor), batch_size=batch_size )\n",
    "# test_dataloader = DataLoader(test_datatensor, sampler = torch.utils.data.SequentialSampler(test_datatensor), batch_size=batch_size )\n",
    "\n"
   ]
  },
  {
   "cell_type": "code",
   "execution_count": null,
   "metadata": {},
   "outputs": [
    {
     "name": "stdout",
     "output_type": "stream",
     "text": [
      "Feature batch shape: torch.Size([32, 1, 28, 28])\n",
      "Labels batch shape: torch.Size([32])\n"
     ]
    }
   ],
   "source": [
    "train_features, train_labels = next(iter(train_dataloader))\n",
    "print(f\"Feature batch shape: {train_features.size()}\")\n",
    "print(f\"Labels batch shape: {train_labels.size()}\")"
   ]
  },
  {
   "cell_type": "markdown",
   "metadata": {},
   "source": [
    "## Creating model"
   ]
  },
  {
   "cell_type": "code",
   "execution_count": null,
   "metadata": {},
   "outputs": [
    {
     "name": "stdout",
     "output_type": "stream",
     "text": [
      "CNNNet(\n",
      "  (conv1): Conv2d(1, 75, kernel_size=(3, 3), stride=(1, 1))\n",
      "  (batchnorm1): BatchNorm2d(75, eps=1e-05, momentum=0.1, affine=True, track_running_stats=True)\n",
      "  (pool1): MaxPool2d(kernel_size=2, stride=2, padding=0, dilation=1, ceil_mode=False)\n",
      "  (conv2): Conv2d(75, 50, kernel_size=(3, 3), stride=(1, 1))\n",
      "  (batchnorm2): BatchNorm2d(50, eps=1e-05, momentum=0.1, affine=True, track_running_stats=True)\n",
      "  (pool2): MaxPool2d(kernel_size=2, stride=2, padding=0, dilation=1, ceil_mode=False)\n",
      "  (conv3): Conv2d(50, 25, kernel_size=(3, 3), stride=(1, 1))\n",
      "  (batchnorm3): BatchNorm2d(25, eps=1e-05, momentum=0.1, affine=True, track_running_stats=True)\n",
      "  (pool3): MaxPool2d(kernel_size=2, stride=1, padding=0, dilation=1, ceil_mode=False)\n",
      "  (dropout1): Dropout(p=0.2, inplace=False)\n",
      "  (dropout2): Dropout(p=0.3, inplace=False)\n",
      "  (fc1): Linear(in_features=100, out_features=512, bias=True)\n",
      "  (fc2): Linear(in_features=512, out_features=24, bias=True)\n",
      "  (softmax): Softmax(dim=1)\n",
      ")\n"
     ]
    }
   ],
   "source": [
    "class CNNNet(nn.Module):\n",
    "    def __init__(self, n_classes) -> None:\n",
    "        super(CNNNet, self).__init__()\n",
    "        self.n_classes = n_classes\n",
    "        self.conv1 = nn.Conv2d(in_channels=1, out_channels=75, kernel_size=3, stride=1)\n",
    "        self.batchnorm1 = nn.BatchNorm2d(75)\n",
    "        self.pool1 = nn.MaxPool2d(kernel_size = 2, stride=2)\n",
    "\n",
    "        self.conv2 = nn.Conv2d(in_channels=75, out_channels=50, kernel_size=3, stride=1)\n",
    "        self.batchnorm2 = nn.BatchNorm2d(50)\n",
    "        self.pool2 = nn.MaxPool2d(kernel_size = 2, stride=2)\n",
    "\n",
    "        self.conv3 = nn.Conv2d(in_channels=50, out_channels=25, kernel_size=3, stride=1)\n",
    "        self.batchnorm3 = nn.BatchNorm2d(25)\n",
    "        self.pool3 = nn.MaxPool2d(kernel_size = 2, stride=1)\n",
    "\n",
    "        self.dropout1 = nn.Dropout(0.2)\n",
    "        self.dropout2 = nn.Dropout(0.3)\n",
    "\n",
    "        self.fc1 = nn.Linear(2*2*25, 512)\n",
    "        self.fc2 = nn.Linear(512, self.n_classes)\n",
    "        self.softmax = nn.Softmax(dim=1)\n",
    "\n",
    "    def forward(self, x):\n",
    "        # print('input x', x.size())\n",
    "        x = F.relu(self.conv1(x))\n",
    "        x = self.batchnorm1(x)\n",
    "        x = self.pool1(x)\n",
    "        # print('after block 1', x.size())\n",
    "\n",
    "        x = F.relu(self.conv2(x))\n",
    "        x = self.dropout1(x)\n",
    "        x = self.batchnorm2(x)\n",
    "        x = self.pool2(x)\n",
    "        # print('after block 2', x.size())\n",
    "\n",
    "        x = F.relu(self.conv3(x))\n",
    "        x = self.batchnorm3(x)\n",
    "        x = self.pool3(x)\n",
    "        # print('after block 3', x.size())\n",
    "\n",
    "        # x = torch.flatten(x, -1)\n",
    "        x = x.view(-1,2*2*25 )\n",
    "        # print('after flattening', x.size())\n",
    "\n",
    "        x = self.fc1(x)\n",
    "        x = self.dropout2(x)\n",
    "        x = self.fc2(x)\n",
    "        return self.softmax(x)\n",
    "\n",
    "\n",
    "model= CNNNet(n_classes = n_classes)\n",
    "print(model)"
   ]
  },
  {
   "cell_type": "code",
   "execution_count": null,
   "metadata": {},
   "outputs": [],
   "source": [
    "# Define loss function and optimizer\n",
    "loss_fn = nn.CrossEntropyLoss()\n",
    "optimizer = optim.SGD(model.parameters(), lr = 0.001, momentum=0.9)"
   ]
  },
  {
   "cell_type": "markdown",
   "metadata": {},
   "source": [
    "## Training model"
   ]
  },
  {
   "cell_type": "code",
   "execution_count": null,
   "metadata": {},
   "outputs": [
    {
     "name": "stderr",
     "output_type": "stream",
     "text": [
      "100%|██████████| 858/858 [02:14<00:00,  6.40it/s]\n",
      "100%|██████████| 225/225 [00:23<00:00,  9.44it/s]\n"
     ]
    },
    {
     "name": "stdout",
     "output_type": "stream",
     "text": [
      "Epoch 1/20: Train loss = 3.131054236616566, Validation loss = 3.0748931217193602, Validation accuracy: 0.2014\n"
     ]
    },
    {
     "name": "stderr",
     "output_type": "stream",
     "text": [
      "100%|██████████| 858/858 [02:08<00:00,  6.66it/s]\n",
      "100%|██████████| 225/225 [00:21<00:00, 10.45it/s]\n"
     ]
    },
    {
     "name": "stdout",
     "output_type": "stream",
     "text": [
      "Epoch 2/20: Train loss = 2.932155084220957, Validation loss = 2.927748826344808, Validation accuracy: 0.3436\n"
     ]
    },
    {
     "name": "stderr",
     "output_type": "stream",
     "text": [
      "100%|██████████| 858/858 [02:10<00:00,  6.59it/s]\n",
      "100%|██████████| 225/225 [00:23<00:00,  9.58it/s]\n"
     ]
    },
    {
     "name": "stdout",
     "output_type": "stream",
     "text": [
      "Epoch 3/20: Train loss = 2.7664235380146054, Validation loss = 2.8083191447787814, Validation accuracy: 0.4628\n"
     ]
    },
    {
     "name": "stderr",
     "output_type": "stream",
     "text": [
      "100%|██████████| 858/858 [02:11<00:00,  6.53it/s]\n",
      "100%|██████████| 225/225 [00:23<00:00,  9.43it/s]\n"
     ]
    },
    {
     "name": "stdout",
     "output_type": "stream",
     "text": [
      "Epoch 4/20: Train loss = 2.6896353634920986, Validation loss = 2.7675830925835503, Validation accuracy: 0.4929\n"
     ]
    },
    {
     "name": "stderr",
     "output_type": "stream",
     "text": [
      "100%|██████████| 858/858 [02:07<00:00,  6.75it/s]\n",
      "100%|██████████| 225/225 [00:23<00:00,  9.55it/s]\n"
     ]
    },
    {
     "name": "stdout",
     "output_type": "stream",
     "text": [
      "Epoch 5/20: Train loss = 2.665325276779406, Validation loss = 2.743620530234443, Validation accuracy: 0.5129\n"
     ]
    },
    {
     "name": "stderr",
     "output_type": "stream",
     "text": [
      "100%|██████████| 858/858 [02:10<00:00,  6.57it/s]\n",
      "100%|██████████| 225/225 [00:24<00:00,  9.29it/s]\n"
     ]
    },
    {
     "name": "stdout",
     "output_type": "stream",
     "text": [
      "Epoch 6/20: Train loss = 2.6448234408607574, Validation loss = 2.726417488522, Validation accuracy: 0.5251\n"
     ]
    },
    {
     "name": "stderr",
     "output_type": "stream",
     "text": [
      "100%|██████████| 858/858 [02:11<00:00,  6.54it/s]\n",
      "100%|██████████| 225/225 [00:24<00:00,  9.22it/s]\n"
     ]
    },
    {
     "name": "stdout",
     "output_type": "stream",
     "text": [
      "Epoch 7/20: Train loss = 2.6294510120000596, Validation loss = 2.7170985243055554, Validation accuracy: 0.5363\n"
     ]
    },
    {
     "name": "stderr",
     "output_type": "stream",
     "text": [
      "100%|██████████| 858/858 [02:11<00:00,  6.52it/s]\n",
      "100%|██████████| 225/225 [00:25<00:00,  8.91it/s]\n"
     ]
    },
    {
     "name": "stdout",
     "output_type": "stream",
     "text": [
      "Epoch 8/20: Train loss = 2.6201811689874788, Validation loss = 2.6862901051839194, Validation accuracy: 0.5794\n"
     ]
    },
    {
     "name": "stderr",
     "output_type": "stream",
     "text": [
      "100%|██████████| 858/858 [02:52<00:00,  4.99it/s]\n",
      "100%|██████████| 225/225 [00:29<00:00,  7.51it/s]\n"
     ]
    },
    {
     "name": "stdout",
     "output_type": "stream",
     "text": [
      "Epoch 9/20: Train loss = 2.573501625538984, Validation loss = 2.621920656628079, Validation accuracy: 0.6415\n"
     ]
    },
    {
     "name": "stderr",
     "output_type": "stream",
     "text": [
      "100%|██████████| 858/858 [02:19<00:00,  6.13it/s]\n",
      "100%|██████████| 225/225 [00:17<00:00, 12.53it/s]\n"
     ]
    },
    {
     "name": "stdout",
     "output_type": "stream",
     "text": [
      "Epoch 10/20: Train loss = 2.540327956626465, Validation loss = 2.5977387502458362, Validation accuracy: 0.6594\n"
     ]
    },
    {
     "name": "stderr",
     "output_type": "stream",
     "text": [
      "100%|██████████| 858/858 [01:44<00:00,  8.19it/s]\n",
      "100%|██████████| 225/225 [00:18<00:00, 12.49it/s]\n"
     ]
    },
    {
     "name": "stdout",
     "output_type": "stream",
     "text": [
      "Epoch 11/20: Train loss = 2.5231316398073744, Validation loss = 2.550474573771159, Validation accuracy: 0.7188\n"
     ]
    },
    {
     "name": "stderr",
     "output_type": "stream",
     "text": [
      "100%|██████████| 858/858 [01:55<00:00,  7.41it/s]\n",
      "100%|██████████| 225/225 [00:23<00:00,  9.67it/s]\n"
     ]
    },
    {
     "name": "stdout",
     "output_type": "stream",
     "text": [
      "Epoch 12/20: Train loss = 2.4998837075867018, Validation loss = 2.5370488929748536, Validation accuracy: 0.7264\n"
     ]
    },
    {
     "name": "stderr",
     "output_type": "stream",
     "text": [
      "100%|██████████| 858/858 [02:01<00:00,  7.08it/s]\n",
      "100%|██████████| 225/225 [00:24<00:00,  9.35it/s]\n"
     ]
    },
    {
     "name": "stdout",
     "output_type": "stream",
     "text": [
      "Epoch 13/20: Train loss = 2.490586578707039, Validation loss = 2.5343005032009547, Validation accuracy: 0.7235\n"
     ]
    },
    {
     "name": "stderr",
     "output_type": "stream",
     "text": [
      "100%|██████████| 858/858 [01:52<00:00,  7.64it/s]\n",
      "100%|██████████| 225/225 [00:18<00:00, 12.10it/s]\n"
     ]
    },
    {
     "name": "stdout",
     "output_type": "stream",
     "text": [
      "Epoch 14/20: Train loss = 2.4834105212649544, Validation loss = 2.5241118335723876, Validation accuracy: 0.7346\n"
     ]
    },
    {
     "name": "stderr",
     "output_type": "stream",
     "text": [
      "100%|██████████| 858/858 [01:52<00:00,  7.63it/s]\n",
      "100%|██████████| 225/225 [00:18<00:00, 12.41it/s]\n"
     ]
    },
    {
     "name": "stdout",
     "output_type": "stream",
     "text": [
      "Epoch 15/20: Train loss = 2.4781597838813054, Validation loss = 2.5203899595472548, Validation accuracy: 0.7385\n"
     ]
    },
    {
     "name": "stderr",
     "output_type": "stream",
     "text": [
      "100%|██████████| 858/858 [01:46<00:00,  8.07it/s]\n",
      "100%|██████████| 225/225 [00:17<00:00, 12.51it/s]\n"
     ]
    },
    {
     "name": "stdout",
     "output_type": "stream",
     "text": [
      "Epoch 16/20: Train loss = 2.4714582147020283, Validation loss = 2.517362554338243, Validation accuracy: 0.7371\n"
     ]
    },
    {
     "name": "stderr",
     "output_type": "stream",
     "text": [
      "100%|██████████| 858/858 [01:45<00:00,  8.16it/s]\n",
      "100%|██████████| 225/225 [00:17<00:00, 12.61it/s]\n"
     ]
    },
    {
     "name": "stdout",
     "output_type": "stream",
     "text": [
      "Epoch 17/20: Train loss = 2.46401000717581, Validation loss = 2.493585883246528, Validation accuracy: 0.7682\n"
     ]
    },
    {
     "name": "stderr",
     "output_type": "stream",
     "text": [
      "100%|██████████| 858/858 [01:50<00:00,  7.75it/s]\n",
      "100%|██████████| 225/225 [00:20<00:00, 11.17it/s]\n"
     ]
    },
    {
     "name": "stdout",
     "output_type": "stream",
     "text": [
      "Epoch 18/20: Train loss = 2.444675015958595, Validation loss = 2.4890693060557045, Validation accuracy: 0.7714\n"
     ]
    },
    {
     "name": "stderr",
     "output_type": "stream",
     "text": [
      "100%|██████████| 858/858 [02:00<00:00,  7.09it/s]\n",
      "100%|██████████| 225/225 [00:21<00:00, 10.28it/s]\n"
     ]
    },
    {
     "name": "stdout",
     "output_type": "stream",
     "text": [
      "Epoch 19/20: Train loss = 2.434933407601221, Validation loss = 2.479547249476115, Validation accuracy: 0.7800\n"
     ]
    },
    {
     "name": "stderr",
     "output_type": "stream",
     "text": [
      "100%|██████████| 858/858 [02:35<00:00,  5.53it/s]\n",
      "100%|██████████| 225/225 [00:24<00:00,  9.06it/s]"
     ]
    },
    {
     "name": "stdout",
     "output_type": "stream",
     "text": [
      "Epoch 20/20: Train loss = 2.429341226746708, Validation loss = 2.476105552249485, Validation accuracy: 0.7817\n"
     ]
    },
    {
     "name": "stderr",
     "output_type": "stream",
     "text": [
      "\n"
     ]
    }
   ],
   "source": [
    "def get_accuracy (y_true, y_pred):\n",
    "    return (y_pred == y_true).sum().item()/len(y_true)\n",
    "\n",
    "def train_fn(data_loader, model, optimizer, device):\n",
    "    model.train()\n",
    "    final_loss = 0.0\n",
    "    for i, data in enumerate(tqdm(data_loader, total = len(data_loader))):\n",
    "        # get input, and send to device\n",
    "        inputs, labels = data[0].to(device), data[1].to(device) #, torch.float, , dtype=torch.int64\n",
    "        # zero the gradient\n",
    "        optimizer.zero_grad()\n",
    "\n",
    "        # forward\n",
    "        outputs = model(inputs) \n",
    "        _, pred_labels = torch.max(outputs.data, 1)\n",
    "        loss = loss_fn(outputs, labels)\n",
    "\n",
    "        # backward\n",
    "        loss.backward()\n",
    "        optimizer.step()\n",
    "        \n",
    "        # print loss every 1000 steps\n",
    "        if (i+1) % 1000 == 0:\n",
    "            print(f'Step [{i+1}/{len(data_loader)}]: Loss = {loss.item()}, Accuracy = {get_accuracy(labels, pred_labels)}')\n",
    "\n",
    "        # save loss\n",
    "        final_loss +=loss.item()\n",
    "    return final_loss/len(data_loader)\n",
    "\n",
    "\n",
    "def eval_fn(data_loader, model):\n",
    "    model.eval()\n",
    "    total = 0\n",
    "    correct = 0\n",
    "    final_loss = 0.0\n",
    "    predictions = []\n",
    "    with torch.no_grad():\n",
    "        for data in tqdm(data_loader, total = len(data_loader)):\n",
    "            inputs, labels = data\n",
    "            outputs = model(inputs)\n",
    "\n",
    "            loss = loss_fn(outputs, labels)\n",
    "            final_loss +=loss.item()\n",
    "\n",
    "            _, pred_labels = torch.max(outputs.data, 1)\n",
    "            predictions.append(pred_labels)\n",
    "            # print('labels.size(0)', labels.size(0))\n",
    "            total+= 1 #labels.size(0)\n",
    "            correct+= get_accuracy(labels, pred_labels)\n",
    "            # print(f'correct / total: {correct} / {total}')\n",
    "\n",
    "    return final_loss/len(data_loader), correct / total, predictions\n",
    "\n",
    "device = torch.device('cuda:0' if torch.cuda.is_available() else 'cpu')\n",
    "model.to(device)    \n",
    "\n",
    "train_loss_values, validation_loss_values = [], []\n",
    "best_loss = np.inf\n",
    "\n",
    "for epoch in range(epochs):\n",
    "    train_loss = train_fn(train_dataloader, model, optimizer, device)\n",
    "    train_loss_values.append(train_loss)\n",
    "    \n",
    "    val_loss, val_accuracy, _ = eval_fn(val_dataloader, model)\n",
    "    validation_loss_values.append(val_loss)\n",
    "\n",
    "    # saving the best model\n",
    "    checkpoint_p = './asl_cnn_agu.pth'\n",
    "    if val_loss < best_loss:\n",
    "        torch.save(model, checkpoint_p)\n",
    "        best_loss = val_loss\n",
    "        best_model_wts = copy.deepcopy(model.state_dict())\n",
    "    print(f'Epoch {epoch+1}/{epochs}: Train loss = {train_loss}, Validation loss = {val_loss}, Validation accuracy: {val_accuracy:.4f}')\n",
    "\n",
    "\n"
   ]
  },
  {
   "cell_type": "code",
   "execution_count": null,
   "metadata": {},
   "outputs": [
    {
     "data": {
      "image/png": "[encoded data removed]",
      "text/plain": [
       "<Figure size 432x288 with 1 Axes>"
      ]
     },
     "metadata": {
      "needs_background": "light"
     },
     "output_type": "display_data"
    }
   ],
   "source": [
    "from numpy import arange\n",
    "\n",
    "# Visualize the loss \n",
    "epochs = range(1, 21)\n",
    "plt.plot(epochs, train_loss_values, label='Training Loss')\n",
    "plt.plot(epochs, validation_loss_values, label='Validation Loss')\n",
    " \n",
    "plt.title('Training and Validation Loss')\n",
    "plt.xlabel('Epochs')\n",
    "plt.ylabel('Loss')\n",
    " \n",
    "# Set the tick locations\n",
    "plt.xticks(arange(0, 21, 1))\n",
    " \n",
    "plt.legend(loc='best')\n",
    "plt.show()"
   ]
  },
  {
   "cell_type": "markdown",
   "metadata": {},
   "source": [
    "## Testing model"
   ]
  },
  {
   "cell_type": "code",
   "execution_count": null,
   "metadata": {},
   "outputs": [],
   "source": [
    "# model.load_state_dict(best_model_wts)\n",
    "# _, test_accuracy, test_preds = eval_fn(test_dataloader, model)\n",
    "# print(f'Model performance on test set: Accuracy = {test_accuracy}')"
   ]
  }
 ],
 "metadata": {
  "kernelspec": {
   "display_name": "Python 3.10.8 64-bit (microsoft store)",
   "language": "python",
   "name": "python3"
  },
  "language_info": {
   "codemirror_mode": {
    "name": "ipython",
    "version": 3
   },
   "file_extension": ".py",
   "mimetype": "text/x-python",
   "name": "python",
   "nbconvert_exporter": "python",
   "pygments_lexer": "ipython3",
   "version": "3.10.8"
  },
  "orig_nbformat": 4,
  "vscode": {
   "interpreter": {
    "hash": "95684bf35b52fd355f8b64198f517869e308ec096e50f26d143db610b46fcfbe"
   }
  }
 },
 "nbformat": 4,
 "nbformat_minor": 2
}
